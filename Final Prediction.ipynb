{
 "cells": [
  {
   "cell_type": "markdown",
   "id": "9ac7f8b2",
   "metadata": {},
   "source": [
    "# FUTURE SALES PREDICTION - FINAL PREDICTION"
   ]
  },
  {
   "cell_type": "markdown",
   "id": "2bccefae",
   "metadata": {},
   "source": [
    "## Importing the libraries"
   ]
  },
  {
   "cell_type": "code",
   "execution_count": 1,
   "id": "5e186929",
   "metadata": {},
   "outputs": [],
   "source": [
    "import joblib as jb\n",
    "feature_selection=jb.load('files/train/model/feature_selected_model.pkl')\n",
    "encode_model=jb.load('files/train/model/train_encode_model.pkl')\n",
    "model=jb.load('files/train/model/gb.pkl')"
   ]
  },
  {
   "cell_type": "code",
   "execution_count": 2,
   "id": "02f5238c",
   "metadata": {},
   "outputs": [],
   "source": [
    "import pandas as pd\n",
    "from math import sqrt\n",
    "from sklearn.metrics import mean_absolute_error, mean_squared_error, r2_score"
   ]
  },
  {
   "cell_type": "markdown",
   "id": "e6f8ab4e",
   "metadata": {},
   "source": [
    "**Create a def function called flow that takes two parameters as x_path,y_path. The steps for creating the def function is as folllows**"
   ]
  },
  {
   "cell_type": "code",
   "execution_count": 3,
   "id": "b1515063",
   "metadata": {},
   "outputs": [],
   "source": [
    "def flow (x_path,y_path):\n",
    "    #read\n",
    "    x_test=pd.read_csv(x_path)\n",
    "    y_test=pd.read_csv(y_path)\n",
    "    \n",
    "    # encode\n",
    "    encode_data=encode_model.transform(x_test)\n",
    "    encode_data=pd.DataFrame(encode_data, columns=x_test.columns)\n",
    "    \n",
    "    # Feature_selection\n",
    "    feature_selected=encode_data[feature_selection]\n",
    "\n",
    "    # predcit\n",
    "    y_pred=pd.DataFrame(model.predict(feature_selected))\n",
    "    \n",
    "    #metrics\n",
    "    MAE=mean_absolute_error(y_pred,y_test)\n",
    "    MSE=mean_squared_error(y_pred,y_test)\n",
    "    RMSE=sqrt(mean_squared_error(y_pred,y_test))\n",
    "    R2=r2_score(y_pred,y_test)\n",
    "    \n",
    "    return y_pred,MAE,MSE,RMSE,R2"
   ]
  },
  {
   "cell_type": "code",
   "execution_count": 4,
   "id": "386846d9",
   "metadata": {},
   "outputs": [],
   "source": [
    "y_pred,MAE,MSE,RMSE,R2=flow('test data/raw/x_test_final.csv','test data/y.csv')"
   ]
  },
  {
   "cell_type": "code",
   "execution_count": 5,
   "id": "cc445f0b",
   "metadata": {},
   "outputs": [
    {
     "data": {
      "text/plain": [
       "0.47227233018155657"
      ]
     },
     "execution_count": 5,
     "metadata": {},
     "output_type": "execute_result"
    }
   ],
   "source": [
    "MAE"
   ]
  },
  {
   "cell_type": "code",
   "execution_count": 6,
   "id": "f54443df",
   "metadata": {},
   "outputs": [
    {
     "data": {
      "text/plain": [
       "1.205733164235825"
      ]
     },
     "execution_count": 6,
     "metadata": {},
     "output_type": "execute_result"
    }
   ],
   "source": [
    "MSE"
   ]
  },
  {
   "cell_type": "code",
   "execution_count": 7,
   "id": "ebc60278",
   "metadata": {},
   "outputs": [
    {
     "data": {
      "text/plain": [
       "1.0980588163827223"
      ]
     },
     "execution_count": 7,
     "metadata": {},
     "output_type": "execute_result"
    }
   ],
   "source": [
    "RMSE"
   ]
  },
  {
   "cell_type": "code",
   "execution_count": 8,
   "id": "55d05e81",
   "metadata": {},
   "outputs": [
    {
     "data": {
      "text/plain": [
       "0.9625605366643593"
      ]
     },
     "execution_count": 8,
     "metadata": {},
     "output_type": "execute_result"
    }
   ],
   "source": [
    "R2"
   ]
  },
  {
   "cell_type": "code",
   "execution_count": 9,
   "id": "7879a9d5",
   "metadata": {},
   "outputs": [
    {
     "data": {
      "text/html": [
       "<div>\n",
       "<style scoped>\n",
       "    .dataframe tbody tr th:only-of-type {\n",
       "        vertical-align: middle;\n",
       "    }\n",
       "\n",
       "    .dataframe tbody tr th {\n",
       "        vertical-align: top;\n",
       "    }\n",
       "\n",
       "    .dataframe thead th {\n",
       "        text-align: right;\n",
       "    }\n",
       "</style>\n",
       "<table border=\"1\" class=\"dataframe\">\n",
       "  <thead>\n",
       "    <tr style=\"text-align: right;\">\n",
       "      <th></th>\n",
       "      <th>0</th>\n",
       "    </tr>\n",
       "  </thead>\n",
       "  <tbody>\n",
       "    <tr>\n",
       "      <th>0</th>\n",
       "      <td>18.352189</td>\n",
       "    </tr>\n",
       "    <tr>\n",
       "      <th>1</th>\n",
       "      <td>11.106546</td>\n",
       "    </tr>\n",
       "    <tr>\n",
       "      <th>2</th>\n",
       "      <td>16.609012</td>\n",
       "    </tr>\n",
       "    <tr>\n",
       "      <th>3</th>\n",
       "      <td>2.998429</td>\n",
       "    </tr>\n",
       "    <tr>\n",
       "      <th>4</th>\n",
       "      <td>12.743404</td>\n",
       "    </tr>\n",
       "    <tr>\n",
       "      <th>...</th>\n",
       "      <td>...</td>\n",
       "    </tr>\n",
       "    <tr>\n",
       "      <th>2664</th>\n",
       "      <td>2.920983</td>\n",
       "    </tr>\n",
       "    <tr>\n",
       "      <th>2665</th>\n",
       "      <td>17.554419</td>\n",
       "    </tr>\n",
       "    <tr>\n",
       "      <th>2666</th>\n",
       "      <td>1.130976</td>\n",
       "    </tr>\n",
       "    <tr>\n",
       "      <th>2667</th>\n",
       "      <td>18.149297</td>\n",
       "    </tr>\n",
       "    <tr>\n",
       "      <th>2668</th>\n",
       "      <td>20.523941</td>\n",
       "    </tr>\n",
       "  </tbody>\n",
       "</table>\n",
       "<p>2669 rows × 1 columns</p>\n",
       "</div>"
      ],
      "text/plain": [
       "              0\n",
       "0     18.352189\n",
       "1     11.106546\n",
       "2     16.609012\n",
       "3      2.998429\n",
       "4     12.743404\n",
       "...         ...\n",
       "2664   2.920983\n",
       "2665  17.554419\n",
       "2666   1.130976\n",
       "2667  18.149297\n",
       "2668  20.523941\n",
       "\n",
       "[2669 rows x 1 columns]"
      ]
     },
     "execution_count": 9,
     "metadata": {},
     "output_type": "execute_result"
    }
   ],
   "source": [
    "y_pred"
   ]
  },
  {
   "cell_type": "markdown",
   "id": "4113c268",
   "metadata": {},
   "source": [
    "**To see the name of the video game we can do the following :**"
   ]
  },
  {
   "cell_type": "code",
   "execution_count": 10,
   "id": "a3d352b3",
   "metadata": {},
   "outputs": [],
   "source": [
    "y_title=pd.read_csv('test data/raw/x_test_final.csv')\n",
    "y_pred['title']=y_title['title']"
   ]
  },
  {
   "cell_type": "code",
   "execution_count": 11,
   "id": "ea95086b",
   "metadata": {},
   "outputs": [
    {
     "data": {
      "text/html": [
       "<div>\n",
       "<style scoped>\n",
       "    .dataframe tbody tr th:only-of-type {\n",
       "        vertical-align: middle;\n",
       "    }\n",
       "\n",
       "    .dataframe tbody tr th {\n",
       "        vertical-align: top;\n",
       "    }\n",
       "\n",
       "    .dataframe thead th {\n",
       "        text-align: right;\n",
       "    }\n",
       "</style>\n",
       "<table border=\"1\" class=\"dataframe\">\n",
       "  <thead>\n",
       "    <tr style=\"text-align: right;\">\n",
       "      <th></th>\n",
       "      <th>0</th>\n",
       "      <th>title</th>\n",
       "    </tr>\n",
       "  </thead>\n",
       "  <tbody>\n",
       "    <tr>\n",
       "      <th>0</th>\n",
       "      <td>18.352189</td>\n",
       "      <td>Vector TD</td>\n",
       "    </tr>\n",
       "    <tr>\n",
       "      <th>1</th>\n",
       "      <td>11.106546</td>\n",
       "      <td>Gaitame Baibai Trainer  Kabutore FX</td>\n",
       "    </tr>\n",
       "    <tr>\n",
       "      <th>2</th>\n",
       "      <td>16.609012</td>\n",
       "      <td>Space Invaders  Invasion Day</td>\n",
       "    </tr>\n",
       "    <tr>\n",
       "      <th>3</th>\n",
       "      <td>2.998429</td>\n",
       "      <td>SimCity 4</td>\n",
       "    </tr>\n",
       "    <tr>\n",
       "      <th>4</th>\n",
       "      <td>12.743404</td>\n",
       "      <td>Numba</td>\n",
       "    </tr>\n",
       "    <tr>\n",
       "      <th>...</th>\n",
       "      <td>...</td>\n",
       "      <td>...</td>\n",
       "    </tr>\n",
       "    <tr>\n",
       "      <th>2664</th>\n",
       "      <td>2.920983</td>\n",
       "      <td>UFC  Sudden Impact</td>\n",
       "    </tr>\n",
       "    <tr>\n",
       "      <th>2665</th>\n",
       "      <td>17.554419</td>\n",
       "      <td>The Polar Express</td>\n",
       "    </tr>\n",
       "    <tr>\n",
       "      <th>2666</th>\n",
       "      <td>1.130976</td>\n",
       "      <td>Terminator Salvation</td>\n",
       "    </tr>\n",
       "    <tr>\n",
       "      <th>2667</th>\n",
       "      <td>18.149297</td>\n",
       "      <td>RUSH</td>\n",
       "    </tr>\n",
       "    <tr>\n",
       "      <th>2668</th>\n",
       "      <td>20.523941</td>\n",
       "      <td>Micron</td>\n",
       "    </tr>\n",
       "  </tbody>\n",
       "</table>\n",
       "<p>2669 rows × 2 columns</p>\n",
       "</div>"
      ],
      "text/plain": [
       "              0                                title\n",
       "0     18.352189                            Vector TD\n",
       "1     11.106546  Gaitame Baibai Trainer  Kabutore FX\n",
       "2     16.609012         Space Invaders  Invasion Day\n",
       "3      2.998429                            SimCity 4\n",
       "4     12.743404                                Numba\n",
       "...         ...                                  ...\n",
       "2664   2.920983                   UFC  Sudden Impact\n",
       "2665  17.554419                    The Polar Express\n",
       "2666   1.130976                 Terminator Salvation\n",
       "2667  18.149297                                 RUSH\n",
       "2668  20.523941                               Micron\n",
       "\n",
       "[2669 rows x 2 columns]"
      ]
     },
     "execution_count": 11,
     "metadata": {},
     "output_type": "execute_result"
    }
   ],
   "source": [
    "y_pred"
   ]
  },
  {
   "cell_type": "markdown",
   "id": "c1e2a581",
   "metadata": {},
   "source": [
    "## Histogram plot to visualize the future sales"
   ]
  },
  {
   "cell_type": "code",
   "execution_count": 12,
   "id": "7734ce76",
   "metadata": {},
   "outputs": [
    {
     "data": {
      "text/plain": [
       "0       18.07\n",
       "1       11.90\n",
       "2       16.77\n",
       "3        3.00\n",
       "4       12.32\n",
       "        ...  \n",
       "2664     2.89\n",
       "2665    17.51\n",
       "2666     0.96\n",
       "2667    18.21\n",
       "2668    20.60\n",
       "Name: global_sales, Length: 2669, dtype: float64"
      ]
     },
     "execution_count": 12,
     "metadata": {},
     "output_type": "execute_result"
    }
   ],
   "source": [
    "x_graph=pd.read_csv('test data/raw/test.csv')\n",
    "x_graph['global_sales']"
   ]
  },
  {
   "cell_type": "code",
   "execution_count": 13,
   "id": "98c1b468",
   "metadata": {
    "scrolled": false
   },
   "outputs": [
    {
     "data": {
      "image/png": "[encoded data removed]",
      "text/plain": [
       "<Figure size 1000x600 with 1 Axes>"
      ]
     },
     "metadata": {},
     "output_type": "display_data"
    }
   ],
   "source": [
    "import matplotlib.pyplot as plt\n",
    "import seaborn as sns\n",
    "plt.figure(figsize=(10, 6))\n",
    "\n",
    "# Plot histogram for actual global sales\n",
    "plt.hist(x_graph['global_sales'],bins=20,alpha=0.5,color='blue',label='Actual Global Sales')\n",
    "\n",
    "# Plot histogram for predicted global sales\n",
    "plt.hist(y_pred[0],bins=20,alpha=0.5,color='yellow',label='Predicted Global Sales')\n",
    "\n",
    "plt.xlabel('Global Sales')\n",
    "plt.ylabel('Frequency')\n",
    "plt.title('Histogram of Actual Global Sales vs. Predicted Global Sales')\n",
    "plt.legend()\n",
    "plt.show()"
   ]
  },
  {
   "cell_type": "code",
   "execution_count": null,
   "id": "589c756c",
   "metadata": {},
   "outputs": [],
   "source": []
  }
 ],
 "metadata": {
  "kernelspec": {
   "display_name": "Python 3 (ipykernel)",
   "language": "python",
   "name": "python3"
  },
  "language_info": {
   "codemirror_mode": {
    "name": "ipython",
    "version": 3
   },
   "file_extension": ".py",
   "mimetype": "text/x-python",
   "name": "python",
   "nbconvert_exporter": "python",
   "pygments_lexer": "ipython3",
   "version": "3.10.9"
  }
 },
 "nbformat": 4,
 "nbformat_minor": 5
}
