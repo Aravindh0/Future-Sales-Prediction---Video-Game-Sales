{
 "cells": [
  {
   "cell_type": "markdown",
   "id": "57992080",
   "metadata": {},
   "source": [
    "# FUTURE SALES PREDICTION-ML"
   ]
  },
  {
   "cell_type": "markdown",
   "id": "3390a8aa",
   "metadata": {},
   "source": [
    "## Objective:\n",
    "    \n",
    "- The objective of this project is to develope a predictive model to estimate the future sales of video games based on sales data and various features such as title,platform,genre,publisher,critic score,user score,total shipped units,production cost and release year. Using those datas available we can predict the global sales of video games."
   ]
  },
  {
   "cell_type": "markdown",
   "id": "535b07b3",
   "metadata": {},
   "source": [
    "## Dataset Description\n",
    "\n",
    "The dataset used for this project consists of the following columns:\n",
    "\n",
    "- **Title**            : The title or name of the video game.\n",
    "\n",
    "- **Platform**         : The gaming platform or console on which the game is released(eg., PC, PS, PS2, etc..).\n",
    "\n",
    "- **Genre**            : The genre or category of the video game(eg., adventure, sports, racing, etc..)\n",
    "\n",
    "- **Publisher**        : The company that publishes the video game.\n",
    "\n",
    "- **VG Score**         : The video game score or rating provided by video game magazines or websites.\n",
    "\n",
    "- **Critic Score**     : The rating given by game critics.\n",
    "\n",
    "- **User Score**       : The rating given by users or gamers.\n",
    "\n",
    "- **Total Shipped**    : The total number of units shipped.\n",
    "\n",
    "- **Aisan Sales**      : The total sales revenue generated in Aisan countries\n",
    "\n",
    "- **North American Sales** : The total sales revenue generated in North America\n",
    "\n",
    "- **European Sales**     : The total sales revenue generated in European countries\n",
    "\n",
    "- **Japan Sales**      : The total sales revenue generated in Japan\n",
    "\n",
    "- **Global Sales**     : The total sales revenue generated globally.\n",
    "\n",
    "- **Production Cost** : The cost incurred for developing and producing the video game.\n",
    "\n",
    "- **Release Year**    : The year in which the video game was released."
   ]
  },
  {
   "cell_type": "markdown",
   "id": "b8ad1be4",
   "metadata": {},
   "source": [
    "## Steps\n",
    "\n",
    "- Importing Libraries\n",
    "\n",
    "- Read Data\n",
    "\n",
    "- Data Preprocessing\n",
    "\n",
    "- Feature Engineering\n",
    "\n",
    "- Model Training"
   ]
  },
  {
   "cell_type": "markdown",
   "id": "33f87f65",
   "metadata": {},
   "source": [
    "## Importing the libraries"
   ]
  },
  {
   "cell_type": "code",
   "execution_count": 1,
   "id": "8d7f35ab",
   "metadata": {},
   "outputs": [],
   "source": [
    "import pandas as pd\n",
    "import numpy as np\n",
    "\n",
    "import matplotlib.pyplot as plt\n",
    "import seaborn as sns\n",
    "\n",
    "from sklearn.preprocessing import OrdinalEncoder\n",
    "from sklearn.model_selection import train_test_split\n",
    "import joblib as jb\n",
    "\n",
    "from sklearn.feature_selection import SelectKBest,f_regression\n",
    "from sklearn.ensemble import GradientBoostingRegressor\n",
    "\n",
    "from math import sqrt\n",
    "from sklearn.metrics import mean_absolute_error,mean_squared_error,r2_score\n",
    "\n",
    "import warnings\n",
    "warnings.filterwarnings('ignore')"
   ]
  },
  {
   "cell_type": "markdown",
   "id": "6dd6828d",
   "metadata": {},
   "source": [
    "## Read the train data\n",
    "\n",
    "- Reading the data into the pandas dataframe is the first step in machine learning. To read data from a file into a pandas DataFrame, we can use the 'pd.read_csv()' function if your data is in CSV format. If our data is in a different format, then there are corresponding functions available in pandas."
   ]
  },
  {
   "cell_type": "code",
   "execution_count": 2,
   "id": "8e1bb64e",
   "metadata": {},
   "outputs": [],
   "source": [
    "data=pd.read_csv('D:\\data science/sales project/files/train/raw/train.csv')"
   ]
  },
  {
   "cell_type": "code",
   "execution_count": 3,
   "id": "a48fd400",
   "metadata": {},
   "outputs": [
    {
     "data": {
      "text/html": [
       "<div>\n",
       "<style scoped>\n",
       "    .dataframe tbody tr th:only-of-type {\n",
       "        vertical-align: middle;\n",
       "    }\n",
       "\n",
       "    .dataframe tbody tr th {\n",
       "        vertical-align: top;\n",
       "    }\n",
       "\n",
       "    .dataframe thead th {\n",
       "        text-align: right;\n",
       "    }\n",
       "</style>\n",
       "<table border=\"1\" class=\"dataframe\">\n",
       "  <thead>\n",
       "    <tr style=\"text-align: right;\">\n",
       "      <th></th>\n",
       "      <th>title</th>\n",
       "      <th>platform</th>\n",
       "      <th>genre</th>\n",
       "      <th>publisher</th>\n",
       "      <th>vg_score</th>\n",
       "      <th>critic_score</th>\n",
       "      <th>user_score</th>\n",
       "      <th>total_shipped</th>\n",
       "      <th>aisan_sales</th>\n",
       "      <th>north_american_sales</th>\n",
       "      <th>japan_sales</th>\n",
       "      <th>european_sales</th>\n",
       "      <th>global_sales</th>\n",
       "      <th>Production Cost</th>\n",
       "      <th>release_year</th>\n",
       "    </tr>\n",
       "  </thead>\n",
       "  <tbody>\n",
       "    <tr>\n",
       "      <th>0</th>\n",
       "      <td>DS Dengeki Bunko  Inukami  feat. Animation</td>\n",
       "      <td>DS</td>\n",
       "      <td>Adventure</td>\n",
       "      <td>Sony Computer Entertainment</td>\n",
       "      <td>7.0</td>\n",
       "      <td>7.0</td>\n",
       "      <td>8.0</td>\n",
       "      <td>50.0</td>\n",
       "      <td>3.69</td>\n",
       "      <td>3.35</td>\n",
       "      <td>1.68</td>\n",
       "      <td>6.45</td>\n",
       "      <td>15.17</td>\n",
       "      <td>3.18</td>\n",
       "      <td>2006</td>\n",
       "    </tr>\n",
       "    <tr>\n",
       "      <th>1</th>\n",
       "      <td>Iggle Pop</td>\n",
       "      <td>PC</td>\n",
       "      <td>Puzzle</td>\n",
       "      <td>Activision</td>\n",
       "      <td>5.0</td>\n",
       "      <td>1.0</td>\n",
       "      <td>8.0</td>\n",
       "      <td>42.0</td>\n",
       "      <td>4.75</td>\n",
       "      <td>3.45</td>\n",
       "      <td>4.13</td>\n",
       "      <td>6.71</td>\n",
       "      <td>19.04</td>\n",
       "      <td>3.00</td>\n",
       "      <td>2004</td>\n",
       "    </tr>\n",
       "    <tr>\n",
       "      <th>2</th>\n",
       "      <td>Tayutama  Its Happy Days</td>\n",
       "      <td>PC</td>\n",
       "      <td>Adventure</td>\n",
       "      <td>Frontier Developments</td>\n",
       "      <td>7.0</td>\n",
       "      <td>4.0</td>\n",
       "      <td>2.0</td>\n",
       "      <td>46.0</td>\n",
       "      <td>3.18</td>\n",
       "      <td>4.99</td>\n",
       "      <td>5.33</td>\n",
       "      <td>2.79</td>\n",
       "      <td>16.29</td>\n",
       "      <td>4.60</td>\n",
       "      <td>2009</td>\n",
       "    </tr>\n",
       "    <tr>\n",
       "      <th>3</th>\n",
       "      <td>Sensible Soccer 2006</td>\n",
       "      <td>PS2</td>\n",
       "      <td>Sports</td>\n",
       "      <td>Activision</td>\n",
       "      <td>2.0</td>\n",
       "      <td>1.0</td>\n",
       "      <td>2.0</td>\n",
       "      <td>141.0</td>\n",
       "      <td>4.68</td>\n",
       "      <td>3.28</td>\n",
       "      <td>2.98</td>\n",
       "      <td>5.71</td>\n",
       "      <td>16.65</td>\n",
       "      <td>4.95</td>\n",
       "      <td>2006</td>\n",
       "    </tr>\n",
       "    <tr>\n",
       "      <th>4</th>\n",
       "      <td>Hayarigami  Keishichou Kaii Jiken File</td>\n",
       "      <td>PS2</td>\n",
       "      <td>Adventure</td>\n",
       "      <td>IBM</td>\n",
       "      <td>10.0</td>\n",
       "      <td>7.0</td>\n",
       "      <td>7.0</td>\n",
       "      <td>72.0</td>\n",
       "      <td>1.67</td>\n",
       "      <td>3.43</td>\n",
       "      <td>3.70</td>\n",
       "      <td>4.18</td>\n",
       "      <td>12.98</td>\n",
       "      <td>4.44</td>\n",
       "      <td>2004</td>\n",
       "    </tr>\n",
       "    <tr>\n",
       "      <th>...</th>\n",
       "      <td>...</td>\n",
       "      <td>...</td>\n",
       "      <td>...</td>\n",
       "      <td>...</td>\n",
       "      <td>...</td>\n",
       "      <td>...</td>\n",
       "      <td>...</td>\n",
       "      <td>...</td>\n",
       "      <td>...</td>\n",
       "      <td>...</td>\n",
       "      <td>...</td>\n",
       "      <td>...</td>\n",
       "      <td>...</td>\n",
       "      <td>...</td>\n",
       "      <td>...</td>\n",
       "    </tr>\n",
       "    <tr>\n",
       "      <th>6222</th>\n",
       "      <td>Forever Worlds</td>\n",
       "      <td>PC</td>\n",
       "      <td>Adventure</td>\n",
       "      <td>Electronic Arts</td>\n",
       "      <td>7.0</td>\n",
       "      <td>3.0</td>\n",
       "      <td>3.0</td>\n",
       "      <td>121.0</td>\n",
       "      <td>4.83</td>\n",
       "      <td>7.94</td>\n",
       "      <td>1.48</td>\n",
       "      <td>6.43</td>\n",
       "      <td>20.68</td>\n",
       "      <td>6.17</td>\n",
       "      <td>2004</td>\n",
       "    </tr>\n",
       "    <tr>\n",
       "      <th>6223</th>\n",
       "      <td>Initial D  Extreme Stage</td>\n",
       "      <td>PS3</td>\n",
       "      <td>Racing</td>\n",
       "      <td>Frontier Developments</td>\n",
       "      <td>1.0</td>\n",
       "      <td>5.0</td>\n",
       "      <td>6.0</td>\n",
       "      <td>182.0</td>\n",
       "      <td>3.00</td>\n",
       "      <td>2.00</td>\n",
       "      <td>0.08</td>\n",
       "      <td>2.31</td>\n",
       "      <td>4.47</td>\n",
       "      <td>1.56</td>\n",
       "      <td>2008</td>\n",
       "    </tr>\n",
       "    <tr>\n",
       "      <th>6224</th>\n",
       "      <td>BigHead Bash</td>\n",
       "      <td>PC</td>\n",
       "      <td>Shooter</td>\n",
       "      <td>Frontier Developments</td>\n",
       "      <td>7.0</td>\n",
       "      <td>1.0</td>\n",
       "      <td>6.0</td>\n",
       "      <td>93.0</td>\n",
       "      <td>4.63</td>\n",
       "      <td>3.05</td>\n",
       "      <td>1.52</td>\n",
       "      <td>1.39</td>\n",
       "      <td>10.59</td>\n",
       "      <td>3.11</td>\n",
       "      <td>2012</td>\n",
       "    </tr>\n",
       "    <tr>\n",
       "      <th>6225</th>\n",
       "      <td>Kurushi Final  Mental Blocks</td>\n",
       "      <td>PSN</td>\n",
       "      <td>Puzzle</td>\n",
       "      <td>Activision</td>\n",
       "      <td>6.0</td>\n",
       "      <td>3.0</td>\n",
       "      <td>9.0</td>\n",
       "      <td>208.0</td>\n",
       "      <td>4.21</td>\n",
       "      <td>5.49</td>\n",
       "      <td>3.08</td>\n",
       "      <td>5.06</td>\n",
       "      <td>17.84</td>\n",
       "      <td>3.93</td>\n",
       "      <td>2010</td>\n",
       "    </tr>\n",
       "    <tr>\n",
       "      <th>6226</th>\n",
       "      <td>ATV Mania</td>\n",
       "      <td>PS</td>\n",
       "      <td>Racing</td>\n",
       "      <td>Electronic Arts</td>\n",
       "      <td>4.0</td>\n",
       "      <td>4.0</td>\n",
       "      <td>9.0</td>\n",
       "      <td>145.0</td>\n",
       "      <td>3.14</td>\n",
       "      <td>2.31</td>\n",
       "      <td>5.24</td>\n",
       "      <td>3.26</td>\n",
       "      <td>13.95</td>\n",
       "      <td>4.70</td>\n",
       "      <td>2003</td>\n",
       "    </tr>\n",
       "  </tbody>\n",
       "</table>\n",
       "<p>6227 rows × 15 columns</p>\n",
       "</div>"
      ],
      "text/plain": [
       "                                           title platform      genre  \\\n",
       "0     DS Dengeki Bunko  Inukami  feat. Animation       DS  Adventure   \n",
       "1                                     Iggle Pop        PC     Puzzle   \n",
       "2                       Tayutama  Its Happy Days       PC  Adventure   \n",
       "3                           Sensible Soccer 2006      PS2     Sports   \n",
       "4         Hayarigami  Keishichou Kaii Jiken File      PS2  Adventure   \n",
       "...                                          ...      ...        ...   \n",
       "6222                              Forever Worlds       PC  Adventure   \n",
       "6223                    Initial D  Extreme Stage      PS3     Racing   \n",
       "6224                                BigHead Bash       PC    Shooter   \n",
       "6225                Kurushi Final  Mental Blocks      PSN     Puzzle   \n",
       "6226                                   ATV Mania       PS     Racing   \n",
       "\n",
       "                        publisher  vg_score  critic_score  user_score  \\\n",
       "0     Sony Computer Entertainment       7.0           7.0         8.0   \n",
       "1                      Activision       5.0           1.0         8.0   \n",
       "2           Frontier Developments       7.0           4.0         2.0   \n",
       "3                      Activision       2.0           1.0         2.0   \n",
       "4                             IBM      10.0           7.0         7.0   \n",
       "...                           ...       ...           ...         ...   \n",
       "6222              Electronic Arts       7.0           3.0         3.0   \n",
       "6223        Frontier Developments       1.0           5.0         6.0   \n",
       "6224        Frontier Developments       7.0           1.0         6.0   \n",
       "6225                   Activision       6.0           3.0         9.0   \n",
       "6226              Electronic Arts       4.0           4.0         9.0   \n",
       "\n",
       "      total_shipped  aisan_sales  north_american_sales  japan_sales  \\\n",
       "0              50.0         3.69                  3.35         1.68   \n",
       "1              42.0         4.75                  3.45         4.13   \n",
       "2              46.0         3.18                  4.99         5.33   \n",
       "3             141.0         4.68                  3.28         2.98   \n",
       "4              72.0         1.67                  3.43         3.70   \n",
       "...             ...          ...                   ...          ...   \n",
       "6222          121.0         4.83                  7.94         1.48   \n",
       "6223          182.0         3.00                  2.00         0.08   \n",
       "6224           93.0         4.63                  3.05         1.52   \n",
       "6225          208.0         4.21                  5.49         3.08   \n",
       "6226          145.0         3.14                  2.31         5.24   \n",
       "\n",
       "      european_sales  global_sales  Production Cost  release_year  \n",
       "0               6.45         15.17             3.18          2006  \n",
       "1               6.71         19.04             3.00          2004  \n",
       "2               2.79         16.29             4.60          2009  \n",
       "3               5.71         16.65             4.95          2006  \n",
       "4               4.18         12.98             4.44          2004  \n",
       "...              ...           ...              ...           ...  \n",
       "6222            6.43         20.68             6.17          2004  \n",
       "6223            2.31          4.47             1.56          2008  \n",
       "6224            1.39         10.59             3.11          2012  \n",
       "6225            5.06         17.84             3.93          2010  \n",
       "6226            3.26         13.95             4.70          2003  \n",
       "\n",
       "[6227 rows x 15 columns]"
      ]
     },
     "execution_count": 3,
     "metadata": {},
     "output_type": "execute_result"
    }
   ],
   "source": [
    "data"
   ]
  },
  {
   "cell_type": "markdown",
   "id": "e2d5b4e5",
   "metadata": {},
   "source": [
    "## Data Preprocessing\n",
    "\n",
    "- Data preprocessing is a process of preparing the raw data and making it suitable for a machine learning model. It is the first and crucial step while creating a machine learning model."
   ]
  },
  {
   "cell_type": "code",
   "execution_count": 4,
   "id": "3d68b183",
   "metadata": {},
   "outputs": [
    {
     "name": "stdout",
     "output_type": "stream",
     "text": [
      "<class 'pandas.core.frame.DataFrame'>\n",
      "RangeIndex: 6227 entries, 0 to 6226\n",
      "Data columns (total 15 columns):\n",
      " #   Column                Non-Null Count  Dtype  \n",
      "---  ------                --------------  -----  \n",
      " 0   title                 6227 non-null   object \n",
      " 1   platform              6227 non-null   object \n",
      " 2   genre                 6227 non-null   object \n",
      " 3   publisher             6227 non-null   object \n",
      " 4   vg_score              6227 non-null   float64\n",
      " 5   critic_score          6227 non-null   float64\n",
      " 6   user_score            6227 non-null   float64\n",
      " 7   total_shipped         6227 non-null   float64\n",
      " 8   aisan_sales           6227 non-null   float64\n",
      " 9   north_american_sales  6227 non-null   float64\n",
      " 10  japan_sales           6227 non-null   float64\n",
      " 11  european_sales        6227 non-null   float64\n",
      " 12  global_sales          6227 non-null   float64\n",
      " 13  Production Cost       6227 non-null   float64\n",
      " 14  release_year          6227 non-null   int64  \n",
      "dtypes: float64(10), int64(1), object(4)\n",
      "memory usage: 729.9+ KB\n"
     ]
    }
   ],
   "source": [
    "#To see the information of the dataset\n",
    "data.info()"
   ]
  },
  {
   "cell_type": "code",
   "execution_count": 5,
   "id": "3fc7b707",
   "metadata": {},
   "outputs": [
    {
     "data": {
      "text/plain": [
       "title                   0\n",
       "platform                0\n",
       "genre                   0\n",
       "publisher               0\n",
       "vg_score                0\n",
       "critic_score            0\n",
       "user_score              0\n",
       "total_shipped           0\n",
       "aisan_sales             0\n",
       "north_american_sales    0\n",
       "japan_sales             0\n",
       "european_sales          0\n",
       "global_sales            0\n",
       "Production Cost         0\n",
       "release_year            0\n",
       "dtype: int64"
      ]
     },
     "execution_count": 5,
     "metadata": {},
     "output_type": "execute_result"
    }
   ],
   "source": [
    "#To check if there is any null value in the dataset\n",
    "data.isnull().sum()"
   ]
  },
  {
   "cell_type": "code",
   "execution_count": 6,
   "id": "f4e9a73a",
   "metadata": {},
   "outputs": [
    {
     "data": {
      "text/plain": [
       "title                   0\n",
       "platform                0\n",
       "genre                   0\n",
       "publisher               0\n",
       "vg_score                0\n",
       "critic_score            0\n",
       "user_score              0\n",
       "total_shipped           0\n",
       "aisan_sales             0\n",
       "north_american_sales    0\n",
       "japan_sales             0\n",
       "european_sales          0\n",
       "global_sales            0\n",
       "Production Cost         0\n",
       "release_year            0\n",
       "dtype: int64"
      ]
     },
     "execution_count": 6,
     "metadata": {},
     "output_type": "execute_result"
    }
   ],
   "source": [
    "#To check if there is any nan value in the dataset\n",
    "data.isna().sum()"
   ]
  },
  {
   "cell_type": "code",
   "execution_count": 7,
   "id": "e0a841f0",
   "metadata": {},
   "outputs": [
    {
     "data": {
      "text/plain": [
       "title                   5518\n",
       "platform                  10\n",
       "genre                      8\n",
       "publisher                  8\n",
       "vg_score                  39\n",
       "critic_score              69\n",
       "user_score                24\n",
       "total_shipped            400\n",
       "aisan_sales              702\n",
       "north_american_sales     762\n",
       "japan_sales              564\n",
       "european_sales           692\n",
       "global_sales            2105\n",
       "Production Cost          633\n",
       "release_year              21\n",
       "dtype: int64"
      ]
     },
     "execution_count": 7,
     "metadata": {},
     "output_type": "execute_result"
    }
   ],
   "source": [
    "#To see the unique values in the dataset\n",
    "data.nunique()"
   ]
  },
  {
   "cell_type": "code",
   "execution_count": 8,
   "id": "f73b90f2",
   "metadata": {},
   "outputs": [
    {
     "data": {
      "text/plain": [
       "0"
      ]
     },
     "execution_count": 8,
     "metadata": {},
     "output_type": "execute_result"
    }
   ],
   "source": [
    "#To check the duplicate values in the dataset\n",
    "data.duplicated().sum()"
   ]
  },
  {
   "cell_type": "code",
   "execution_count": 9,
   "id": "db4cbf16",
   "metadata": {},
   "outputs": [
    {
     "data": {
      "text/html": [
       "<div>\n",
       "<style scoped>\n",
       "    .dataframe tbody tr th:only-of-type {\n",
       "        vertical-align: middle;\n",
       "    }\n",
       "\n",
       "    .dataframe tbody tr th {\n",
       "        vertical-align: top;\n",
       "    }\n",
       "\n",
       "    .dataframe thead th {\n",
       "        text-align: right;\n",
       "    }\n",
       "</style>\n",
       "<table border=\"1\" class=\"dataframe\">\n",
       "  <thead>\n",
       "    <tr style=\"text-align: right;\">\n",
       "      <th></th>\n",
       "      <th>vg_score</th>\n",
       "      <th>critic_score</th>\n",
       "      <th>user_score</th>\n",
       "      <th>total_shipped</th>\n",
       "      <th>aisan_sales</th>\n",
       "      <th>north_american_sales</th>\n",
       "      <th>japan_sales</th>\n",
       "      <th>european_sales</th>\n",
       "      <th>global_sales</th>\n",
       "      <th>Production Cost</th>\n",
       "      <th>release_year</th>\n",
       "    </tr>\n",
       "  </thead>\n",
       "  <tbody>\n",
       "    <tr>\n",
       "      <th>count</th>\n",
       "      <td>6227.000000</td>\n",
       "      <td>6227.000000</td>\n",
       "      <td>6227.000000</td>\n",
       "      <td>6227.000000</td>\n",
       "      <td>6227.000000</td>\n",
       "      <td>6227.000000</td>\n",
       "      <td>6227.000000</td>\n",
       "      <td>6227.000000</td>\n",
       "      <td>6227.000000</td>\n",
       "      <td>6227.000000</td>\n",
       "      <td>6227.000000</td>\n",
       "    </tr>\n",
       "    <tr>\n",
       "      <th>mean</th>\n",
       "      <td>6.105123</td>\n",
       "      <td>5.709106</td>\n",
       "      <td>5.534254</td>\n",
       "      <td>143.744217</td>\n",
       "      <td>3.862492</td>\n",
       "      <td>2.591275</td>\n",
       "      <td>3.080732</td>\n",
       "      <td>3.052234</td>\n",
       "      <td>11.607325</td>\n",
       "      <td>3.571927</td>\n",
       "      <td>2007.465232</td>\n",
       "    </tr>\n",
       "    <tr>\n",
       "      <th>std</th>\n",
       "      <td>2.788897</td>\n",
       "      <td>2.801076</td>\n",
       "      <td>2.867762</td>\n",
       "      <td>89.364179</td>\n",
       "      <td>1.788431</td>\n",
       "      <td>2.040604</td>\n",
       "      <td>1.754591</td>\n",
       "      <td>2.245405</td>\n",
       "      <td>5.857546</td>\n",
       "      <td>1.775259</td>\n",
       "      <td>4.763525</td>\n",
       "    </tr>\n",
       "    <tr>\n",
       "      <th>min</th>\n",
       "      <td>1.000000</td>\n",
       "      <td>1.000000</td>\n",
       "      <td>1.000000</td>\n",
       "      <td>0.100000</td>\n",
       "      <td>1.000000</td>\n",
       "      <td>0.010000</td>\n",
       "      <td>0.010000</td>\n",
       "      <td>0.010000</td>\n",
       "      <td>0.090000</td>\n",
       "      <td>0.010000</td>\n",
       "      <td>2000.000000</td>\n",
       "    </tr>\n",
       "    <tr>\n",
       "      <th>25%</th>\n",
       "      <td>4.000000</td>\n",
       "      <td>3.000000</td>\n",
       "      <td>3.000000</td>\n",
       "      <td>66.000000</td>\n",
       "      <td>3.000000</td>\n",
       "      <td>0.610000</td>\n",
       "      <td>1.710000</td>\n",
       "      <td>1.030000</td>\n",
       "      <td>6.325000</td>\n",
       "      <td>2.155000</td>\n",
       "      <td>2004.000000</td>\n",
       "    </tr>\n",
       "    <tr>\n",
       "      <th>50%</th>\n",
       "      <td>6.000000</td>\n",
       "      <td>6.000000</td>\n",
       "      <td>6.000000</td>\n",
       "      <td>142.000000</td>\n",
       "      <td>3.000000</td>\n",
       "      <td>2.420000</td>\n",
       "      <td>3.130000</td>\n",
       "      <td>3.060000</td>\n",
       "      <td>12.240000</td>\n",
       "      <td>3.440000</td>\n",
       "      <td>2007.000000</td>\n",
       "    </tr>\n",
       "    <tr>\n",
       "      <th>75%</th>\n",
       "      <td>8.000000</td>\n",
       "      <td>8.000000</td>\n",
       "      <td>8.000000</td>\n",
       "      <td>221.000000</td>\n",
       "      <td>5.105000</td>\n",
       "      <td>4.060000</td>\n",
       "      <td>4.600000</td>\n",
       "      <td>5.030000</td>\n",
       "      <td>16.240000</td>\n",
       "      <td>4.965000</td>\n",
       "      <td>2010.000000</td>\n",
       "    </tr>\n",
       "    <tr>\n",
       "      <th>max</th>\n",
       "      <td>10.000000</td>\n",
       "      <td>10.000000</td>\n",
       "      <td>10.000000</td>\n",
       "      <td>300.000000</td>\n",
       "      <td>13.800000</td>\n",
       "      <td>8.000000</td>\n",
       "      <td>6.000000</td>\n",
       "      <td>7.000000</td>\n",
       "      <td>27.080000</td>\n",
       "      <td>8.000000</td>\n",
       "      <td>2020.000000</td>\n",
       "    </tr>\n",
       "  </tbody>\n",
       "</table>\n",
       "</div>"
      ],
      "text/plain": [
       "          vg_score  critic_score   user_score  total_shipped  aisan_sales  \\\n",
       "count  6227.000000   6227.000000  6227.000000    6227.000000  6227.000000   \n",
       "mean      6.105123      5.709106     5.534254     143.744217     3.862492   \n",
       "std       2.788897      2.801076     2.867762      89.364179     1.788431   \n",
       "min       1.000000      1.000000     1.000000       0.100000     1.000000   \n",
       "25%       4.000000      3.000000     3.000000      66.000000     3.000000   \n",
       "50%       6.000000      6.000000     6.000000     142.000000     3.000000   \n",
       "75%       8.000000      8.000000     8.000000     221.000000     5.105000   \n",
       "max      10.000000     10.000000    10.000000     300.000000    13.800000   \n",
       "\n",
       "       north_american_sales  japan_sales  european_sales  global_sales  \\\n",
       "count           6227.000000  6227.000000     6227.000000   6227.000000   \n",
       "mean               2.591275     3.080732        3.052234     11.607325   \n",
       "std                2.040604     1.754591        2.245405      5.857546   \n",
       "min                0.010000     0.010000        0.010000      0.090000   \n",
       "25%                0.610000     1.710000        1.030000      6.325000   \n",
       "50%                2.420000     3.130000        3.060000     12.240000   \n",
       "75%                4.060000     4.600000        5.030000     16.240000   \n",
       "max                8.000000     6.000000        7.000000     27.080000   \n",
       "\n",
       "       Production Cost  release_year  \n",
       "count      6227.000000   6227.000000  \n",
       "mean          3.571927   2007.465232  \n",
       "std           1.775259      4.763525  \n",
       "min           0.010000   2000.000000  \n",
       "25%           2.155000   2004.000000  \n",
       "50%           3.440000   2007.000000  \n",
       "75%           4.965000   2010.000000  \n",
       "max           8.000000   2020.000000  "
      ]
     },
     "execution_count": 9,
     "metadata": {},
     "output_type": "execute_result"
    }
   ],
   "source": [
    "data.describe()"
   ]
  },
  {
   "cell_type": "markdown",
   "id": "b0d0af82",
   "metadata": {},
   "source": [
    "## Outliers Finding\n",
    "\n",
    "- Outliers are those data points that are significantly different from the rest of the dataset that are caused due to experimental error or human error.\n",
    "- We can find outliers using various methods here we use box plot method to find if there is any outliers in the dataset"
   ]
  },
  {
   "cell_type": "code",
   "execution_count": 10,
   "id": "780b3fa5",
   "metadata": {},
   "outputs": [],
   "source": [
    "import matplotlib.pyplot as plt\n",
    "import seaborn as sns"
   ]
  },
  {
   "cell_type": "code",
   "execution_count": 11,
   "id": "ca98ea21",
   "metadata": {},
   "outputs": [
    {
     "data": {
      "image/png": "[encoded data removed]",
      "text/plain": [
       "<Figure size 700x400 with 1 Axes>"
      ]
     },
     "metadata": {},
     "output_type": "display_data"
    },
    {
     "data": {
      "image/png": "[encoded data removed]",
      "text/plain": [
       "<Figure size 700x400 with 1 Axes>"
      ]
     },
     "metadata": {},
     "output_type": "display_data"
    },
    {
     "data": {
      "image/png": "[encoded data removed]",
      "text/plain": [
       "<Figure size 700x400 with 1 Axes>"
      ]
     },
     "metadata": {},
     "output_type": "display_data"
    },
    {
     "data": {
      "image/png": "[encoded data removed]",
      "text/plain": [
       "<Figure size 700x400 with 1 Axes>"
      ]
     },
     "metadata": {},
     "output_type": "display_data"
    },
    {
     "data": {
      "image/png": "[encoded data removed]",
      "text/plain": [
       "<Figure size 700x400 with 1 Axes>"
      ]
     },
     "metadata": {},
     "output_type": "display_data"
    },
    {
     "data": {
      "image/png": "[encoded data removed]",
      "text/plain": [
       "<Figure size 700x400 with 1 Axes>"
      ]
     },
     "metadata": {},
     "output_type": "display_data"
    },
    {
     "data": {
      "image/png": "[encoded data removed]",
      "text/plain": [
       "<Figure size 700x400 with 1 Axes>"
      ]
     },
     "metadata": {},
     "output_type": "display_data"
    },
    {
     "data": {
      "image/png": "[encoded data removed]",
      "text/plain": [
       "<Figure size 700x400 with 1 Axes>"
      ]
     },
     "metadata": {},
     "output_type": "display_data"
    },
    {
     "data": {
      "image/png": "[encoded data removed]",
      "text/plain": [
       "<Figure size 700x400 with 1 Axes>"
      ]
     },
     "metadata": {},
     "output_type": "display_data"
    },
    {
     "data": {
      "image/png": "[encoded data removed]",
      "text/plain": [
       "<Figure size 700x400 with 1 Axes>"
      ]
     },
     "metadata": {},
     "output_type": "display_data"
    },
    {
     "data": {
      "image/png": "[encoded data removed]",
      "text/plain": [
       "<Figure size 700x400 with 1 Axes>"
      ]
     },
     "metadata": {},
     "output_type": "display_data"
    }
   ],
   "source": [
    "#Using boxplot to find outliers\n",
    "plt.figure(figsize=(7,4))\n",
    "sns.boxplot(data['vg_score'])\n",
    "plt.title('vg score')\n",
    "\n",
    "plt.figure(figsize=(7,4))\n",
    "sns.boxplot(data['critic_score'])\n",
    "plt.title('critic score')\n",
    "\n",
    "plt.figure(figsize=(7,4))\n",
    "sns.boxplot(data['user_score'])\n",
    "plt.title('user score')\n",
    "\n",
    "plt.figure(figsize=(7,4))\n",
    "sns.boxplot(data['total_shipped'])\n",
    "plt.title('total shipped')\n",
    "\n",
    "plt.figure(figsize=(7,4))\n",
    "sns.boxplot(data['aisan_sales'])\n",
    "plt.title('aisan sales')\n",
    "\n",
    "plt.figure(figsize=(7,4))\n",
    "sns.boxplot(data['north_american_sales'])\n",
    "plt.title('north american sales')\n",
    "\n",
    "plt.figure(figsize=(7,4))\n",
    "sns.boxplot(data['japan_sales'])\n",
    "plt.title('japan sales')\n",
    "\n",
    "plt.figure(figsize=(7,4))\n",
    "sns.boxplot(data['european_sales'])\n",
    "plt.title('european sales')\n",
    "\n",
    "plt.figure(figsize=(7,4))\n",
    "sns.boxplot(data['global_sales'])\n",
    "plt.title('global sales')\n",
    "\n",
    "plt.figure(figsize=(7,4))\n",
    "sns.boxplot(data['Production Cost'])\n",
    "plt.title('production cost')\n",
    "\n",
    "plt.figure(figsize=(7,4))\n",
    "sns.boxplot(data['release_year'])\n",
    "plt.title('release year')\n",
    "\n",
    "plt.show()"
   ]
  },
  {
   "cell_type": "markdown",
   "id": "be044dff",
   "metadata": {},
   "source": [
    "- While using box plot we found that there is outliers in aisan_sales and release_year. So it is necessary to handle those outliers for the model to perform well\n",
    "- To handle there are some techniques we use capping method to handle those outliers"
   ]
  },
  {
   "cell_type": "markdown",
   "id": "ca2fcc32",
   "metadata": {},
   "source": [
    "## Handling Outliers\n",
    "- We can handle ouliers using capping method"
   ]
  },
  {
   "cell_type": "code",
   "execution_count": 12,
   "id": "cd2cf70f",
   "metadata": {},
   "outputs": [
    {
     "data": {
      "text/plain": [
       "3.0"
      ]
     },
     "execution_count": 12,
     "metadata": {},
     "output_type": "execute_result"
    }
   ],
   "source": [
    "#handling outlier in aisan_sales\n",
    "q1=data['aisan_sales'].quantile(0.25)\n",
    "q1"
   ]
  },
  {
   "cell_type": "code",
   "execution_count": 13,
   "id": "212b9524",
   "metadata": {},
   "outputs": [
    {
     "data": {
      "text/plain": [
       "5.105"
      ]
     },
     "execution_count": 13,
     "metadata": {},
     "output_type": "execute_result"
    }
   ],
   "source": [
    "q3=data['aisan_sales'].quantile(0.75)\n",
    "q3"
   ]
  },
  {
   "cell_type": "code",
   "execution_count": 14,
   "id": "4b26c7db",
   "metadata": {},
   "outputs": [
    {
     "data": {
      "text/plain": [
       "2.1050000000000004"
      ]
     },
     "execution_count": 14,
     "metadata": {},
     "output_type": "execute_result"
    }
   ],
   "source": [
    "IQR=q3-q1\n",
    "IQR"
   ]
  },
  {
   "cell_type": "code",
   "execution_count": 15,
   "id": "02c04e10",
   "metadata": {},
   "outputs": [
    {
     "data": {
      "text/plain": [
       "-0.15750000000000064"
      ]
     },
     "execution_count": 15,
     "metadata": {},
     "output_type": "execute_result"
    }
   ],
   "source": [
    "lower_range=q1-(1.5*IQR)\n",
    "lower_range"
   ]
  },
  {
   "cell_type": "code",
   "execution_count": 16,
   "id": "2fb56e57",
   "metadata": {},
   "outputs": [
    {
     "data": {
      "text/plain": [
       "8.262500000000001"
      ]
     },
     "execution_count": 16,
     "metadata": {},
     "output_type": "execute_result"
    }
   ],
   "source": [
    "upper_range=q3+(1.5*IQR)\n",
    "upper_range"
   ]
  },
  {
   "cell_type": "code",
   "execution_count": 17,
   "id": "d7ba07df",
   "metadata": {},
   "outputs": [],
   "source": [
    "#capping\n",
    "data['aisan_sales']=np.where(data['aisan_sales']<lower_range,lower_range,\n",
    "                    np.where(data['aisan_sales']>upper_range,upper_range,\n",
    "                    data['aisan_sales']))"
   ]
  },
  {
   "cell_type": "code",
   "execution_count": 18,
   "id": "0546d2d1",
   "metadata": {},
   "outputs": [
    {
     "data": {
      "text/plain": [
       "<Axes: >"
      ]
     },
     "execution_count": 18,
     "metadata": {},
     "output_type": "execute_result"
    },
    {
     "data": {
      "image/png": "[encoded data removed]",
      "text/plain": [
       "<Figure size 640x480 with 1 Axes>"
      ]
     },
     "metadata": {},
     "output_type": "display_data"
    }
   ],
   "source": [
    "sns.boxplot(data['aisan_sales'])"
   ]
  },
  {
   "cell_type": "code",
   "execution_count": 19,
   "id": "c454c284",
   "metadata": {},
   "outputs": [
    {
     "data": {
      "text/plain": [
       "2004.0"
      ]
     },
     "execution_count": 19,
     "metadata": {},
     "output_type": "execute_result"
    }
   ],
   "source": [
    "#handling outlier in release_year\n",
    "q1=data['release_year'].quantile(0.25)\n",
    "q1"
   ]
  },
  {
   "cell_type": "code",
   "execution_count": 20,
   "id": "28cce135",
   "metadata": {},
   "outputs": [
    {
     "data": {
      "text/plain": [
       "2010.0"
      ]
     },
     "execution_count": 20,
     "metadata": {},
     "output_type": "execute_result"
    }
   ],
   "source": [
    "q3=data['release_year'].quantile(0.75)\n",
    "q3"
   ]
  },
  {
   "cell_type": "code",
   "execution_count": 21,
   "id": "1a3ae001",
   "metadata": {},
   "outputs": [
    {
     "data": {
      "text/plain": [
       "6.0"
      ]
     },
     "execution_count": 21,
     "metadata": {},
     "output_type": "execute_result"
    }
   ],
   "source": [
    "IQR=q3-q1\n",
    "IQR"
   ]
  },
  {
   "cell_type": "code",
   "execution_count": 22,
   "id": "72022bfb",
   "metadata": {},
   "outputs": [
    {
     "data": {
      "text/plain": [
       "1995.0"
      ]
     },
     "execution_count": 22,
     "metadata": {},
     "output_type": "execute_result"
    }
   ],
   "source": [
    "lower_range=q1-(1.5*IQR)\n",
    "lower_range"
   ]
  },
  {
   "cell_type": "code",
   "execution_count": 23,
   "id": "600a5312",
   "metadata": {},
   "outputs": [
    {
     "data": {
      "text/plain": [
       "2019.0"
      ]
     },
     "execution_count": 23,
     "metadata": {},
     "output_type": "execute_result"
    }
   ],
   "source": [
    "upper_range=q3+(1.5*IQR)\n",
    "upper_range"
   ]
  },
  {
   "cell_type": "code",
   "execution_count": 24,
   "id": "302c5e4d",
   "metadata": {},
   "outputs": [],
   "source": [
    "#capping\n",
    "data['release_year']=np.where(data['release_year']<lower_range,lower_range,\n",
    "                     np.where(data['release_year']>upper_range,upper_range,\n",
    "                     data['release_year']))"
   ]
  },
  {
   "cell_type": "code",
   "execution_count": 25,
   "id": "11690a5e",
   "metadata": {},
   "outputs": [
    {
     "data": {
      "text/plain": [
       "<Axes: >"
      ]
     },
     "execution_count": 25,
     "metadata": {},
     "output_type": "execute_result"
    },
    {
     "data": {
      "image/png": "[encoded data removed]",
      "text/plain": [
       "<Figure size 640x480 with 1 Axes>"
      ]
     },
     "metadata": {},
     "output_type": "display_data"
    }
   ],
   "source": [
    "sns.boxplot(data['release_year'])"
   ]
  },
  {
   "cell_type": "markdown",
   "id": "9e82d80c",
   "metadata": {},
   "source": [
    "- By performing the above steps we handled the outliers in our dataset"
   ]
  },
  {
   "cell_type": "markdown",
   "id": "fa961e65",
   "metadata": {},
   "source": [
    "## Feature Engineering\n",
    "\n",
    "- Feature Engineering is the process of extracting and organizing the important features from raw data in such a way that it fits the purpose of the machine learning model."
   ]
  },
  {
   "cell_type": "markdown",
   "id": "a6d564f2",
   "metadata": {},
   "source": [
    "## Features and Labels"
   ]
  },
  {
   "cell_type": "code",
   "execution_count": 26,
   "id": "6d09c285",
   "metadata": {},
   "outputs": [],
   "source": [
    "df=data.copy()\n",
    "y=df['global_sales'].copy()\n",
    "x=df.drop(['global_sales'],axis=1)"
   ]
  },
  {
   "cell_type": "markdown",
   "id": "5e5ed273",
   "metadata": {},
   "source": [
    "- The above method seperates the features and labels from the data. The label variables are copied into y amd the remaining features are copied into x. "
   ]
  },
  {
   "cell_type": "markdown",
   "id": "e698a040",
   "metadata": {},
   "source": [
    "## Splitting train and test datas"
   ]
  },
  {
   "cell_type": "code",
   "execution_count": 27,
   "id": "f4e01d3c",
   "metadata": {},
   "outputs": [],
   "source": [
    "from sklearn.model_selection import train_test_split"
   ]
  },
  {
   "cell_type": "code",
   "execution_count": 28,
   "id": "6143741b",
   "metadata": {},
   "outputs": [],
   "source": [
    "x_train,x_test,y_train,y_test=train_test_split(x,y,train_size=0.7,shuffle=True,random_state=123)"
   ]
  },
  {
   "cell_type": "markdown",
   "id": "22413c95",
   "metadata": {},
   "source": [
    "- This splits the data into test and train using train_test_split function. The x and y variables are seperated into x_train,x_test,y_train and y_test at a train_size of 0.7(ie, 70% of the data). The shuffle=True function randomly shuffles the data with a random state of 123"
   ]
  },
  {
   "cell_type": "code",
   "execution_count": 29,
   "id": "645ebd04",
   "metadata": {},
   "outputs": [],
   "source": [
    "#Saving the files to csv format\n",
    "x_train.to_csv('D:\\data science/sales project/files/train/raw/x_train.csv',index=False)\n",
    "y_train.to_csv('D:\\data science/sales project/files/train/raw/y_train.csv',index=False)\n",
    "\n",
    "x_test.to_csv('D:\\data science/sales project/files/evaluate/raw/x_test.csv',index=False)\n",
    "y_test.to_csv('D:\\data science/sales project/files/evaluate/raw/y_test.csv',index=False)"
   ]
  },
  {
   "cell_type": "markdown",
   "id": "50599124",
   "metadata": {},
   "source": [
    "## Feature Encoding\n",
    "\n",
    "- Feature encoding is the process of transforming the categorical datas into numerical data. By transforming the data our machine learning model can understand the data."
   ]
  },
  {
   "cell_type": "code",
   "execution_count": 30,
   "id": "e6b2edcb",
   "metadata": {},
   "outputs": [],
   "source": [
    "from sklearn.preprocessing import OrdinalEncoder"
   ]
  },
  {
   "cell_type": "code",
   "execution_count": 31,
   "id": "76332530",
   "metadata": {},
   "outputs": [],
   "source": [
    "encoder=OrdinalEncoder(handle_unknown='use_encoded_value',unknown_value=-1)\n",
    "x_encode=encoder.fit(x_train)\n",
    "#Saving the file as pkl\n",
    "import joblib as jb\n",
    "jb.dump(x_encode,'D:\\data science/sales project/files/train/model/train_encode_model.pkl')\n",
    "x_encode=encoder.transform(x_train)\n",
    "x_train_encode=pd.DataFrame(x_encode,columns=x_train.columns)"
   ]
  },
  {
   "cell_type": "markdown",
   "id": "f37ad0b2",
   "metadata": {},
   "source": [
    "- The ordinal encoder will transform categorical variables to numerical variables. To handle any unknown categorical data during testing and training we use the function handle_unknown='use_encoded-value'. The unknown_value=-1 function replaces the values of unknown categories as -1"
   ]
  },
  {
   "cell_type": "code",
   "execution_count": 32,
   "id": "9875570e",
   "metadata": {},
   "outputs": [
    {
     "data": {
      "text/html": [
       "<div>\n",
       "<style scoped>\n",
       "    .dataframe tbody tr th:only-of-type {\n",
       "        vertical-align: middle;\n",
       "    }\n",
       "\n",
       "    .dataframe tbody tr th {\n",
       "        vertical-align: top;\n",
       "    }\n",
       "\n",
       "    .dataframe thead th {\n",
       "        text-align: right;\n",
       "    }\n",
       "</style>\n",
       "<table border=\"1\" class=\"dataframe\">\n",
       "  <thead>\n",
       "    <tr style=\"text-align: right;\">\n",
       "      <th></th>\n",
       "      <th>title</th>\n",
       "      <th>platform</th>\n",
       "      <th>genre</th>\n",
       "      <th>publisher</th>\n",
       "      <th>vg_score</th>\n",
       "      <th>critic_score</th>\n",
       "      <th>user_score</th>\n",
       "      <th>total_shipped</th>\n",
       "      <th>aisan_sales</th>\n",
       "      <th>north_american_sales</th>\n",
       "      <th>japan_sales</th>\n",
       "      <th>european_sales</th>\n",
       "      <th>Production Cost</th>\n",
       "      <th>release_year</th>\n",
       "    </tr>\n",
       "  </thead>\n",
       "  <tbody>\n",
       "    <tr>\n",
       "      <th>0</th>\n",
       "      <td>357.0</td>\n",
       "      <td>5.0</td>\n",
       "      <td>0.0</td>\n",
       "      <td>7.0</td>\n",
       "      <td>35.0</td>\n",
       "      <td>38.0</td>\n",
       "      <td>10.0</td>\n",
       "      <td>101.0</td>\n",
       "      <td>426.0</td>\n",
       "      <td>372.0</td>\n",
       "      <td>330.0</td>\n",
       "      <td>90.0</td>\n",
       "      <td>135.0</td>\n",
       "      <td>11.0</td>\n",
       "    </tr>\n",
       "    <tr>\n",
       "      <th>1</th>\n",
       "      <td>853.0</td>\n",
       "      <td>2.0</td>\n",
       "      <td>4.0</td>\n",
       "      <td>3.0</td>\n",
       "      <td>23.0</td>\n",
       "      <td>48.0</td>\n",
       "      <td>5.0</td>\n",
       "      <td>307.0</td>\n",
       "      <td>198.0</td>\n",
       "      <td>358.0</td>\n",
       "      <td>207.0</td>\n",
       "      <td>0.0</td>\n",
       "      <td>1.0</td>\n",
       "      <td>17.0</td>\n",
       "    </tr>\n",
       "    <tr>\n",
       "      <th>2</th>\n",
       "      <td>2803.0</td>\n",
       "      <td>4.0</td>\n",
       "      <td>4.0</td>\n",
       "      <td>5.0</td>\n",
       "      <td>0.0</td>\n",
       "      <td>18.0</td>\n",
       "      <td>10.0</td>\n",
       "      <td>327.0</td>\n",
       "      <td>205.0</td>\n",
       "      <td>207.0</td>\n",
       "      <td>476.0</td>\n",
       "      <td>96.0</td>\n",
       "      <td>252.0</td>\n",
       "      <td>4.0</td>\n",
       "    </tr>\n",
       "    <tr>\n",
       "      <th>3</th>\n",
       "      <td>349.0</td>\n",
       "      <td>2.0</td>\n",
       "      <td>3.0</td>\n",
       "      <td>1.0</td>\n",
       "      <td>35.0</td>\n",
       "      <td>18.0</td>\n",
       "      <td>2.0</td>\n",
       "      <td>186.0</td>\n",
       "      <td>198.0</td>\n",
       "      <td>427.0</td>\n",
       "      <td>375.0</td>\n",
       "      <td>1.0</td>\n",
       "      <td>211.0</td>\n",
       "      <td>6.0</td>\n",
       "    </tr>\n",
       "    <tr>\n",
       "      <th>4</th>\n",
       "      <td>2221.0</td>\n",
       "      <td>2.0</td>\n",
       "      <td>7.0</td>\n",
       "      <td>3.0</td>\n",
       "      <td>35.0</td>\n",
       "      <td>38.0</td>\n",
       "      <td>2.0</td>\n",
       "      <td>143.0</td>\n",
       "      <td>209.0</td>\n",
       "      <td>173.0</td>\n",
       "      <td>386.0</td>\n",
       "      <td>612.0</td>\n",
       "      <td>473.0</td>\n",
       "      <td>13.0</td>\n",
       "    </tr>\n",
       "    <tr>\n",
       "      <th>...</th>\n",
       "      <td>...</td>\n",
       "      <td>...</td>\n",
       "      <td>...</td>\n",
       "      <td>...</td>\n",
       "      <td>...</td>\n",
       "      <td>...</td>\n",
       "      <td>...</td>\n",
       "      <td>...</td>\n",
       "      <td>...</td>\n",
       "      <td>...</td>\n",
       "      <td>...</td>\n",
       "      <td>...</td>\n",
       "      <td>...</td>\n",
       "      <td>...</td>\n",
       "    </tr>\n",
       "    <tr>\n",
       "      <th>4353</th>\n",
       "      <td>1354.0</td>\n",
       "      <td>2.0</td>\n",
       "      <td>0.0</td>\n",
       "      <td>5.0</td>\n",
       "      <td>9.0</td>\n",
       "      <td>11.0</td>\n",
       "      <td>15.0</td>\n",
       "      <td>335.0</td>\n",
       "      <td>317.0</td>\n",
       "      <td>612.0</td>\n",
       "      <td>437.0</td>\n",
       "      <td>464.0</td>\n",
       "      <td>449.0</td>\n",
       "      <td>3.0</td>\n",
       "    </tr>\n",
       "    <tr>\n",
       "      <th>4354</th>\n",
       "      <td>3204.0</td>\n",
       "      <td>8.0</td>\n",
       "      <td>3.0</td>\n",
       "      <td>1.0</td>\n",
       "      <td>14.0</td>\n",
       "      <td>3.0</td>\n",
       "      <td>21.0</td>\n",
       "      <td>346.0</td>\n",
       "      <td>179.0</td>\n",
       "      <td>173.0</td>\n",
       "      <td>70.0</td>\n",
       "      <td>191.0</td>\n",
       "      <td>48.0</td>\n",
       "      <td>7.0</td>\n",
       "    </tr>\n",
       "    <tr>\n",
       "      <th>4355</th>\n",
       "      <td>1494.0</td>\n",
       "      <td>0.0</td>\n",
       "      <td>4.0</td>\n",
       "      <td>2.0</td>\n",
       "      <td>7.0</td>\n",
       "      <td>65.0</td>\n",
       "      <td>0.0</td>\n",
       "      <td>211.0</td>\n",
       "      <td>198.0</td>\n",
       "      <td>1.0</td>\n",
       "      <td>346.0</td>\n",
       "      <td>563.0</td>\n",
       "      <td>541.0</td>\n",
       "      <td>9.0</td>\n",
       "    </tr>\n",
       "    <tr>\n",
       "      <th>4356</th>\n",
       "      <td>551.0</td>\n",
       "      <td>0.0</td>\n",
       "      <td>6.0</td>\n",
       "      <td>2.0</td>\n",
       "      <td>9.0</td>\n",
       "      <td>11.0</td>\n",
       "      <td>1.0</td>\n",
       "      <td>173.0</td>\n",
       "      <td>198.0</td>\n",
       "      <td>11.0</td>\n",
       "      <td>183.0</td>\n",
       "      <td>4.0</td>\n",
       "      <td>485.0</td>\n",
       "      <td>11.0</td>\n",
       "    </tr>\n",
       "    <tr>\n",
       "      <th>4357</th>\n",
       "      <td>706.0</td>\n",
       "      <td>8.0</td>\n",
       "      <td>6.0</td>\n",
       "      <td>6.0</td>\n",
       "      <td>32.0</td>\n",
       "      <td>11.0</td>\n",
       "      <td>2.0</td>\n",
       "      <td>319.0</td>\n",
       "      <td>422.0</td>\n",
       "      <td>469.0</td>\n",
       "      <td>332.0</td>\n",
       "      <td>515.0</td>\n",
       "      <td>549.0</td>\n",
       "      <td>9.0</td>\n",
       "    </tr>\n",
       "  </tbody>\n",
       "</table>\n",
       "<p>4358 rows × 14 columns</p>\n",
       "</div>"
      ],
      "text/plain": [
       "       title  platform  genre  publisher  vg_score  critic_score  user_score  \\\n",
       "0      357.0       5.0    0.0        7.0      35.0          38.0        10.0   \n",
       "1      853.0       2.0    4.0        3.0      23.0          48.0         5.0   \n",
       "2     2803.0       4.0    4.0        5.0       0.0          18.0        10.0   \n",
       "3      349.0       2.0    3.0        1.0      35.0          18.0         2.0   \n",
       "4     2221.0       2.0    7.0        3.0      35.0          38.0         2.0   \n",
       "...      ...       ...    ...        ...       ...           ...         ...   \n",
       "4353  1354.0       2.0    0.0        5.0       9.0          11.0        15.0   \n",
       "4354  3204.0       8.0    3.0        1.0      14.0           3.0        21.0   \n",
       "4355  1494.0       0.0    4.0        2.0       7.0          65.0         0.0   \n",
       "4356   551.0       0.0    6.0        2.0       9.0          11.0         1.0   \n",
       "4357   706.0       8.0    6.0        6.0      32.0          11.0         2.0   \n",
       "\n",
       "      total_shipped  aisan_sales  north_american_sales  japan_sales  \\\n",
       "0             101.0        426.0                 372.0        330.0   \n",
       "1             307.0        198.0                 358.0        207.0   \n",
       "2             327.0        205.0                 207.0        476.0   \n",
       "3             186.0        198.0                 427.0        375.0   \n",
       "4             143.0        209.0                 173.0        386.0   \n",
       "...             ...          ...                   ...          ...   \n",
       "4353          335.0        317.0                 612.0        437.0   \n",
       "4354          346.0        179.0                 173.0         70.0   \n",
       "4355          211.0        198.0                   1.0        346.0   \n",
       "4356          173.0        198.0                  11.0        183.0   \n",
       "4357          319.0        422.0                 469.0        332.0   \n",
       "\n",
       "      european_sales  Production Cost  release_year  \n",
       "0               90.0            135.0          11.0  \n",
       "1                0.0              1.0          17.0  \n",
       "2               96.0            252.0           4.0  \n",
       "3                1.0            211.0           6.0  \n",
       "4              612.0            473.0          13.0  \n",
       "...              ...              ...           ...  \n",
       "4353           464.0            449.0           3.0  \n",
       "4354           191.0             48.0           7.0  \n",
       "4355           563.0            541.0           9.0  \n",
       "4356             4.0            485.0          11.0  \n",
       "4357           515.0            549.0           9.0  \n",
       "\n",
       "[4358 rows x 14 columns]"
      ]
     },
     "execution_count": 32,
     "metadata": {},
     "output_type": "execute_result"
    }
   ],
   "source": [
    "x_train_encode"
   ]
  },
  {
   "cell_type": "code",
   "execution_count": 33,
   "id": "17768714",
   "metadata": {},
   "outputs": [],
   "source": [
    "x_train_encode.to_csv('D:\\data science/sales project/files/train/processed/encoded_processed.csv',index=False)"
   ]
  },
  {
   "cell_type": "code",
   "execution_count": 34,
   "id": "fff9fefc",
   "metadata": {},
   "outputs": [
    {
     "data": {
      "text/plain": [
       "<Axes: >"
      ]
     },
     "execution_count": 34,
     "metadata": {},
     "output_type": "execute_result"
    },
    {
     "data": {
      "image/png": "[encoded data removed]",
      "text/plain": [
       "<Figure size 1600x900 with 2 Axes>"
      ]
     },
     "metadata": {},
     "output_type": "display_data"
    }
   ],
   "source": [
    "plt.figure(figsize=(16,9))\n",
    "sns.heatmap(x_train_encode.corr(),annot=True)"
   ]
  },
  {
   "cell_type": "markdown",
   "id": "978f1ff5",
   "metadata": {},
   "source": [
    "## Feature Selection\n",
    "- Feature selection in machine learning is the process of finding the best set of features that allows one to build optimized model."
   ]
  },
  {
   "cell_type": "code",
   "execution_count": 35,
   "id": "b92c9cb9",
   "metadata": {},
   "outputs": [],
   "source": [
    "from sklearn.feature_selection import SelectKBest,f_regression"
   ]
  },
  {
   "cell_type": "code",
   "execution_count": 36,
   "id": "97b0e05a",
   "metadata": {},
   "outputs": [],
   "source": [
    "bestfeatures=SelectKBest(score_func=f_regression, k=10)\n",
    "fit=bestfeatures.fit(x_train_encode,y_train)"
   ]
  },
  {
   "cell_type": "markdown",
   "id": "97ec6550",
   "metadata": {},
   "source": [
    "- SelectKBest is the class used for feature selection, and f_regression is the scoring function that will be used to evaluate the features."
   ]
  },
  {
   "cell_type": "code",
   "execution_count": 37,
   "id": "48b05038",
   "metadata": {},
   "outputs": [
    {
     "name": "stdout",
     "output_type": "stream",
     "text": [
      "                   Specs        Score\n",
      "11        european_sales  4413.794714\n",
      "9   north_american_sales  4159.390062\n",
      "8            aisan_sales  2594.492913\n",
      "10           japan_sales   972.663861\n",
      "2                  genre    51.944149\n",
      "13          release_year    18.737422\n",
      "1               platform     9.139698\n",
      "4               vg_score     5.321093\n",
      "7          total_shipped     4.717520\n",
      "12       Production Cost     3.555734\n"
     ]
    }
   ],
   "source": [
    "dfscores=pd.DataFrame(fit.scores_)\n",
    "dfcolumns=pd.DataFrame(x.columns)\n",
    "#concat two dataframes for better visualization \n",
    "featureScores=pd.concat([dfcolumns,dfscores],axis=1)\n",
    "featureScores.columns=['Specs','Score']  #naming the dataframe columns\n",
    "print(featureScores.nlargest(10,'Score'))  #print 10 best features"
   ]
  },
  {
   "cell_type": "markdown",
   "id": "edaaacef",
   "metadata": {},
   "source": [
    "- These are good feature and score of our data"
   ]
  },
  {
   "cell_type": "code",
   "execution_count": 38,
   "id": "f875a3c4",
   "metadata": {},
   "outputs": [
    {
     "data": {
      "text/html": [
       "<div>\n",
       "<style scoped>\n",
       "    .dataframe tbody tr th:only-of-type {\n",
       "        vertical-align: middle;\n",
       "    }\n",
       "\n",
       "    .dataframe tbody tr th {\n",
       "        vertical-align: top;\n",
       "    }\n",
       "\n",
       "    .dataframe thead th {\n",
       "        text-align: right;\n",
       "    }\n",
       "</style>\n",
       "<table border=\"1\" class=\"dataframe\">\n",
       "  <thead>\n",
       "    <tr style=\"text-align: right;\">\n",
       "      <th></th>\n",
       "      <th>Specs</th>\n",
       "      <th>Score</th>\n",
       "    </tr>\n",
       "  </thead>\n",
       "  <tbody>\n",
       "    <tr>\n",
       "      <th>11</th>\n",
       "      <td>european_sales</td>\n",
       "      <td>4413.794714</td>\n",
       "    </tr>\n",
       "    <tr>\n",
       "      <th>9</th>\n",
       "      <td>north_american_sales</td>\n",
       "      <td>4159.390062</td>\n",
       "    </tr>\n",
       "    <tr>\n",
       "      <th>8</th>\n",
       "      <td>aisan_sales</td>\n",
       "      <td>2594.492913</td>\n",
       "    </tr>\n",
       "    <tr>\n",
       "      <th>10</th>\n",
       "      <td>japan_sales</td>\n",
       "      <td>972.663861</td>\n",
       "    </tr>\n",
       "    <tr>\n",
       "      <th>2</th>\n",
       "      <td>genre</td>\n",
       "      <td>51.944149</td>\n",
       "    </tr>\n",
       "    <tr>\n",
       "      <th>13</th>\n",
       "      <td>release_year</td>\n",
       "      <td>18.737422</td>\n",
       "    </tr>\n",
       "    <tr>\n",
       "      <th>1</th>\n",
       "      <td>platform</td>\n",
       "      <td>9.139698</td>\n",
       "    </tr>\n",
       "    <tr>\n",
       "      <th>4</th>\n",
       "      <td>vg_score</td>\n",
       "      <td>5.321093</td>\n",
       "    </tr>\n",
       "    <tr>\n",
       "      <th>7</th>\n",
       "      <td>total_shipped</td>\n",
       "      <td>4.717520</td>\n",
       "    </tr>\n",
       "    <tr>\n",
       "      <th>12</th>\n",
       "      <td>Production Cost</td>\n",
       "      <td>3.555734</td>\n",
       "    </tr>\n",
       "  </tbody>\n",
       "</table>\n",
       "</div>"
      ],
      "text/plain": [
       "                   Specs        Score\n",
       "11        european_sales  4413.794714\n",
       "9   north_american_sales  4159.390062\n",
       "8            aisan_sales  2594.492913\n",
       "10           japan_sales   972.663861\n",
       "2                  genre    51.944149\n",
       "13          release_year    18.737422\n",
       "1               platform     9.139698\n",
       "4               vg_score     5.321093\n",
       "7          total_shipped     4.717520\n",
       "12       Production Cost     3.555734"
      ]
     },
     "execution_count": 38,
     "metadata": {},
     "output_type": "execute_result"
    }
   ],
   "source": [
    "feature=featureScores.nlargest(10,'Score')\n",
    "feature"
   ]
  },
  {
   "cell_type": "code",
   "execution_count": 39,
   "id": "8f4517c4",
   "metadata": {},
   "outputs": [
    {
     "data": {
      "text/plain": [
       "['european_sales',\n",
       " 'north_american_sales',\n",
       " 'aisan_sales',\n",
       " 'japan_sales',\n",
       " 'genre',\n",
       " 'release_year',\n",
       " 'platform',\n",
       " 'vg_score',\n",
       " 'total_shipped',\n",
       " 'Production Cost']"
      ]
     },
     "execution_count": 39,
     "metadata": {},
     "output_type": "execute_result"
    }
   ],
   "source": [
    "feature_list=feature['Specs'].to_list()\n",
    "feature_list"
   ]
  },
  {
   "cell_type": "code",
   "execution_count": 40,
   "id": "99542e7a",
   "metadata": {},
   "outputs": [
    {
     "data": {
      "text/plain": [
       "['D:\\\\data science/sales project/files/train/model/feature_selected_model.pkl']"
      ]
     },
     "execution_count": 40,
     "metadata": {},
     "output_type": "execute_result"
    }
   ],
   "source": [
    "jb.dump(feature_list,'D:\\data science/sales project/files/train/model/feature_selected_model.pkl')"
   ]
  },
  {
   "cell_type": "code",
   "execution_count": 41,
   "id": "256f544a",
   "metadata": {},
   "outputs": [
    {
     "data": {
      "text/html": [
       "<div>\n",
       "<style scoped>\n",
       "    .dataframe tbody tr th:only-of-type {\n",
       "        vertical-align: middle;\n",
       "    }\n",
       "\n",
       "    .dataframe tbody tr th {\n",
       "        vertical-align: top;\n",
       "    }\n",
       "\n",
       "    .dataframe thead th {\n",
       "        text-align: right;\n",
       "    }\n",
       "</style>\n",
       "<table border=\"1\" class=\"dataframe\">\n",
       "  <thead>\n",
       "    <tr style=\"text-align: right;\">\n",
       "      <th></th>\n",
       "      <th>european_sales</th>\n",
       "      <th>north_american_sales</th>\n",
       "      <th>aisan_sales</th>\n",
       "      <th>japan_sales</th>\n",
       "      <th>genre</th>\n",
       "      <th>release_year</th>\n",
       "      <th>platform</th>\n",
       "      <th>vg_score</th>\n",
       "      <th>total_shipped</th>\n",
       "      <th>Production Cost</th>\n",
       "    </tr>\n",
       "  </thead>\n",
       "  <tbody>\n",
       "    <tr>\n",
       "      <th>0</th>\n",
       "      <td>90.0</td>\n",
       "      <td>372.0</td>\n",
       "      <td>426.0</td>\n",
       "      <td>330.0</td>\n",
       "      <td>0.0</td>\n",
       "      <td>11.0</td>\n",
       "      <td>5.0</td>\n",
       "      <td>35.0</td>\n",
       "      <td>101.0</td>\n",
       "      <td>135.0</td>\n",
       "    </tr>\n",
       "    <tr>\n",
       "      <th>1</th>\n",
       "      <td>0.0</td>\n",
       "      <td>358.0</td>\n",
       "      <td>198.0</td>\n",
       "      <td>207.0</td>\n",
       "      <td>4.0</td>\n",
       "      <td>17.0</td>\n",
       "      <td>2.0</td>\n",
       "      <td>23.0</td>\n",
       "      <td>307.0</td>\n",
       "      <td>1.0</td>\n",
       "    </tr>\n",
       "    <tr>\n",
       "      <th>2</th>\n",
       "      <td>96.0</td>\n",
       "      <td>207.0</td>\n",
       "      <td>205.0</td>\n",
       "      <td>476.0</td>\n",
       "      <td>4.0</td>\n",
       "      <td>4.0</td>\n",
       "      <td>4.0</td>\n",
       "      <td>0.0</td>\n",
       "      <td>327.0</td>\n",
       "      <td>252.0</td>\n",
       "    </tr>\n",
       "    <tr>\n",
       "      <th>3</th>\n",
       "      <td>1.0</td>\n",
       "      <td>427.0</td>\n",
       "      <td>198.0</td>\n",
       "      <td>375.0</td>\n",
       "      <td>3.0</td>\n",
       "      <td>6.0</td>\n",
       "      <td>2.0</td>\n",
       "      <td>35.0</td>\n",
       "      <td>186.0</td>\n",
       "      <td>211.0</td>\n",
       "    </tr>\n",
       "    <tr>\n",
       "      <th>4</th>\n",
       "      <td>612.0</td>\n",
       "      <td>173.0</td>\n",
       "      <td>209.0</td>\n",
       "      <td>386.0</td>\n",
       "      <td>7.0</td>\n",
       "      <td>13.0</td>\n",
       "      <td>2.0</td>\n",
       "      <td>35.0</td>\n",
       "      <td>143.0</td>\n",
       "      <td>473.0</td>\n",
       "    </tr>\n",
       "    <tr>\n",
       "      <th>...</th>\n",
       "      <td>...</td>\n",
       "      <td>...</td>\n",
       "      <td>...</td>\n",
       "      <td>...</td>\n",
       "      <td>...</td>\n",
       "      <td>...</td>\n",
       "      <td>...</td>\n",
       "      <td>...</td>\n",
       "      <td>...</td>\n",
       "      <td>...</td>\n",
       "    </tr>\n",
       "    <tr>\n",
       "      <th>4353</th>\n",
       "      <td>464.0</td>\n",
       "      <td>612.0</td>\n",
       "      <td>317.0</td>\n",
       "      <td>437.0</td>\n",
       "      <td>0.0</td>\n",
       "      <td>3.0</td>\n",
       "      <td>2.0</td>\n",
       "      <td>9.0</td>\n",
       "      <td>335.0</td>\n",
       "      <td>449.0</td>\n",
       "    </tr>\n",
       "    <tr>\n",
       "      <th>4354</th>\n",
       "      <td>191.0</td>\n",
       "      <td>173.0</td>\n",
       "      <td>179.0</td>\n",
       "      <td>70.0</td>\n",
       "      <td>3.0</td>\n",
       "      <td>7.0</td>\n",
       "      <td>8.0</td>\n",
       "      <td>14.0</td>\n",
       "      <td>346.0</td>\n",
       "      <td>48.0</td>\n",
       "    </tr>\n",
       "    <tr>\n",
       "      <th>4355</th>\n",
       "      <td>563.0</td>\n",
       "      <td>1.0</td>\n",
       "      <td>198.0</td>\n",
       "      <td>346.0</td>\n",
       "      <td>4.0</td>\n",
       "      <td>9.0</td>\n",
       "      <td>0.0</td>\n",
       "      <td>7.0</td>\n",
       "      <td>211.0</td>\n",
       "      <td>541.0</td>\n",
       "    </tr>\n",
       "    <tr>\n",
       "      <th>4356</th>\n",
       "      <td>4.0</td>\n",
       "      <td>11.0</td>\n",
       "      <td>198.0</td>\n",
       "      <td>183.0</td>\n",
       "      <td>6.0</td>\n",
       "      <td>11.0</td>\n",
       "      <td>0.0</td>\n",
       "      <td>9.0</td>\n",
       "      <td>173.0</td>\n",
       "      <td>485.0</td>\n",
       "    </tr>\n",
       "    <tr>\n",
       "      <th>4357</th>\n",
       "      <td>515.0</td>\n",
       "      <td>469.0</td>\n",
       "      <td>422.0</td>\n",
       "      <td>332.0</td>\n",
       "      <td>6.0</td>\n",
       "      <td>9.0</td>\n",
       "      <td>8.0</td>\n",
       "      <td>32.0</td>\n",
       "      <td>319.0</td>\n",
       "      <td>549.0</td>\n",
       "    </tr>\n",
       "  </tbody>\n",
       "</table>\n",
       "<p>4358 rows × 10 columns</p>\n",
       "</div>"
      ],
      "text/plain": [
       "      european_sales  north_american_sales  aisan_sales  japan_sales  genre  \\\n",
       "0               90.0                 372.0        426.0        330.0    0.0   \n",
       "1                0.0                 358.0        198.0        207.0    4.0   \n",
       "2               96.0                 207.0        205.0        476.0    4.0   \n",
       "3                1.0                 427.0        198.0        375.0    3.0   \n",
       "4              612.0                 173.0        209.0        386.0    7.0   \n",
       "...              ...                   ...          ...          ...    ...   \n",
       "4353           464.0                 612.0        317.0        437.0    0.0   \n",
       "4354           191.0                 173.0        179.0         70.0    3.0   \n",
       "4355           563.0                   1.0        198.0        346.0    4.0   \n",
       "4356             4.0                  11.0        198.0        183.0    6.0   \n",
       "4357           515.0                 469.0        422.0        332.0    6.0   \n",
       "\n",
       "      release_year  platform  vg_score  total_shipped  Production Cost  \n",
       "0             11.0       5.0      35.0          101.0            135.0  \n",
       "1             17.0       2.0      23.0          307.0              1.0  \n",
       "2              4.0       4.0       0.0          327.0            252.0  \n",
       "3              6.0       2.0      35.0          186.0            211.0  \n",
       "4             13.0       2.0      35.0          143.0            473.0  \n",
       "...            ...       ...       ...            ...              ...  \n",
       "4353           3.0       2.0       9.0          335.0            449.0  \n",
       "4354           7.0       8.0      14.0          346.0             48.0  \n",
       "4355           9.0       0.0       7.0          211.0            541.0  \n",
       "4356          11.0       0.0       9.0          173.0            485.0  \n",
       "4357           9.0       8.0      32.0          319.0            549.0  \n",
       "\n",
       "[4358 rows x 10 columns]"
      ]
     },
     "execution_count": 41,
     "metadata": {},
     "output_type": "execute_result"
    }
   ],
   "source": [
    "feature_selected=x_train_encode[feature_list]\n",
    "feature_selected"
   ]
  },
  {
   "cell_type": "code",
   "execution_count": 42,
   "id": "a9a28893",
   "metadata": {},
   "outputs": [],
   "source": [
    "feature_selected.to_csv('D:\\data science/sales project/files/train/processed/feature_selected_x_train.csv',index=False)"
   ]
  },
  {
   "cell_type": "markdown",
   "id": "bec092cb",
   "metadata": {},
   "source": [
    "## Model Training\n",
    "\n",
    "-  Model training is a process in which a machine learning algorithm is fed with training data from which it can learn."
   ]
  },
  {
   "cell_type": "code",
   "execution_count": 43,
   "id": "844b206e",
   "metadata": {},
   "outputs": [],
   "source": [
    "from sklearn.ensemble import GradientBoostingRegressor"
   ]
  },
  {
   "cell_type": "markdown",
   "id": "7927a684",
   "metadata": {},
   "source": [
    "- As our data is continuous we are using regressor model ie, GradientBoosting Regressor"
   ]
  },
  {
   "cell_type": "code",
   "execution_count": 44,
   "id": "ad98ed9d",
   "metadata": {},
   "outputs": [
    {
     "name": "stdout",
     "output_type": "stream",
     "text": [
      "Train score: 99.61704376301525\n"
     ]
    }
   ],
   "source": [
    "gb=GradientBoostingRegressor()\n",
    "gb.fit(feature_selected,y_train)\n",
    "print('Train score:',gb.score(feature_selected,y_train)* 100)"
   ]
  },
  {
   "cell_type": "code",
   "execution_count": 45,
   "id": "8d7232c3",
   "metadata": {},
   "outputs": [
    {
     "data": {
      "text/plain": [
       "['D:\\\\data science/sales project/files/train/model/gb.pkl']"
      ]
     },
     "execution_count": 45,
     "metadata": {},
     "output_type": "execute_result"
    }
   ],
   "source": [
    "jb.dump(gb,'D:\\data science/sales project/files/train/model/gb.pkl')"
   ]
  },
  {
   "cell_type": "markdown",
   "id": "1614a2ec",
   "metadata": {},
   "source": [
    "## PREDICTION"
   ]
  },
  {
   "cell_type": "markdown",
   "id": "0e6f2b3c",
   "metadata": {},
   "source": [
    "## Load x_test and y_test"
   ]
  },
  {
   "cell_type": "code",
   "execution_count": 46,
   "id": "d3a4197c",
   "metadata": {},
   "outputs": [],
   "source": [
    "feature_selection=jb.load('D:\\data science/sales project/files/train/model/feature_selected_model.pkl')\n",
    "encode_model=jb.load('D:\\data science/sales project/files/train/model/train_encode_model.pkl')\n",
    "model=jb.load('D:\\data science/sales project/files/train/model/gb.pkl')"
   ]
  },
  {
   "cell_type": "code",
   "execution_count": 47,
   "id": "d08ea6c4",
   "metadata": {},
   "outputs": [
    {
     "data": {
      "text/html": [
       "<style>#sk-container-id-1 {color: black;}#sk-container-id-1 pre{padding: 0;}#sk-container-id-1 div.sk-toggleable {background-color: white;}#sk-container-id-1 label.sk-toggleable__label {cursor: pointer;display: block;width: 100%;margin-bottom: 0;padding: 0.3em;box-sizing: border-box;text-align: center;}#sk-container-id-1 label.sk-toggleable__label-arrow:before {content: \"▸\";float: left;margin-right: 0.25em;color: #696969;}#sk-container-id-1 label.sk-toggleable__label-arrow:hover:before {color: black;}#sk-container-id-1 div.sk-estimator:hover label.sk-toggleable__label-arrow:before {color: black;}#sk-container-id-1 div.sk-toggleable__content {max-height: 0;max-width: 0;overflow: hidden;text-align: left;background-color: #f0f8ff;}#sk-container-id-1 div.sk-toggleable__content pre {margin: 0.2em;color: black;border-radius: 0.25em;background-color: #f0f8ff;}#sk-container-id-1 input.sk-toggleable__control:checked~div.sk-toggleable__content {max-height: 200px;max-width: 100%;overflow: auto;}#sk-container-id-1 input.sk-toggleable__control:checked~label.sk-toggleable__label-arrow:before {content: \"▾\";}#sk-container-id-1 div.sk-estimator input.sk-toggleable__control:checked~label.sk-toggleable__label {background-color: #d4ebff;}#sk-container-id-1 div.sk-label input.sk-toggleable__control:checked~label.sk-toggleable__label {background-color: #d4ebff;}#sk-container-id-1 input.sk-hidden--visually {border: 0;clip: rect(1px 1px 1px 1px);clip: rect(1px, 1px, 1px, 1px);height: 1px;margin: -1px;overflow: hidden;padding: 0;position: absolute;width: 1px;}#sk-container-id-1 div.sk-estimator {font-family: monospace;background-color: #f0f8ff;border: 1px dotted black;border-radius: 0.25em;box-sizing: border-box;margin-bottom: 0.5em;}#sk-container-id-1 div.sk-estimator:hover {background-color: #d4ebff;}#sk-container-id-1 div.sk-parallel-item::after {content: \"\";width: 100%;border-bottom: 1px solid gray;flex-grow: 1;}#sk-container-id-1 div.sk-label:hover label.sk-toggleable__label {background-color: #d4ebff;}#sk-container-id-1 div.sk-serial::before {content: \"\";position: absolute;border-left: 1px solid gray;box-sizing: border-box;top: 0;bottom: 0;left: 50%;z-index: 0;}#sk-container-id-1 div.sk-serial {display: flex;flex-direction: column;align-items: center;background-color: white;padding-right: 0.2em;padding-left: 0.2em;position: relative;}#sk-container-id-1 div.sk-item {position: relative;z-index: 1;}#sk-container-id-1 div.sk-parallel {display: flex;align-items: stretch;justify-content: center;background-color: white;position: relative;}#sk-container-id-1 div.sk-item::before, #sk-container-id-1 div.sk-parallel-item::before {content: \"\";position: absolute;border-left: 1px solid gray;box-sizing: border-box;top: 0;bottom: 0;left: 50%;z-index: -1;}#sk-container-id-1 div.sk-parallel-item {display: flex;flex-direction: column;z-index: 1;position: relative;background-color: white;}#sk-container-id-1 div.sk-parallel-item:first-child::after {align-self: flex-end;width: 50%;}#sk-container-id-1 div.sk-parallel-item:last-child::after {align-self: flex-start;width: 50%;}#sk-container-id-1 div.sk-parallel-item:only-child::after {width: 0;}#sk-container-id-1 div.sk-dashed-wrapped {border: 1px dashed gray;margin: 0 0.4em 0.5em 0.4em;box-sizing: border-box;padding-bottom: 0.4em;background-color: white;}#sk-container-id-1 div.sk-label label {font-family: monospace;font-weight: bold;display: inline-block;line-height: 1.2em;}#sk-container-id-1 div.sk-label-container {text-align: center;}#sk-container-id-1 div.sk-container {/* jupyter's `normalize.less` sets `[hidden] { display: none; }` but bootstrap.min.css set `[hidden] { display: none !important; }` so we also need the `!important` here to be able to override the default hidden behavior on the sphinx rendered scikit-learn.org. See: https://github.com/scikit-learn/scikit-learn/issues/21755 */display: inline-block !important;position: relative;}#sk-container-id-1 div.sk-text-repr-fallback {display: none;}</style><div id=\"sk-container-id-1\" class=\"sk-top-container\"><div class=\"sk-text-repr-fallback\"><pre>OrdinalEncoder(handle_unknown=&#x27;use_encoded_value&#x27;, unknown_value=-1)</pre><b>In a Jupyter environment, please rerun this cell to show the HTML representation or trust the notebook. <br />On GitHub, the HTML representation is unable to render, please try loading this page with nbviewer.org.</b></div><div class=\"sk-container\" hidden><div class=\"sk-item\"><div class=\"sk-estimator sk-toggleable\"><input class=\"sk-toggleable__control sk-hidden--visually\" id=\"sk-estimator-id-1\" type=\"checkbox\" checked><label for=\"sk-estimator-id-1\" class=\"sk-toggleable__label sk-toggleable__label-arrow\">OrdinalEncoder</label><div class=\"sk-toggleable__content\"><pre>OrdinalEncoder(handle_unknown=&#x27;use_encoded_value&#x27;, unknown_value=-1)</pre></div></div></div></div></div>"
      ],
      "text/plain": [
       "OrdinalEncoder(handle_unknown='use_encoded_value', unknown_value=-1)"
      ]
     },
     "execution_count": 47,
     "metadata": {},
     "output_type": "execute_result"
    }
   ],
   "source": [
    "encode_model"
   ]
  },
  {
   "cell_type": "code",
   "execution_count": 48,
   "id": "36b5c0bd",
   "metadata": {},
   "outputs": [
    {
     "data": {
      "text/plain": [
       "['european_sales',\n",
       " 'north_american_sales',\n",
       " 'aisan_sales',\n",
       " 'japan_sales',\n",
       " 'genre',\n",
       " 'release_year',\n",
       " 'platform',\n",
       " 'vg_score',\n",
       " 'total_shipped',\n",
       " 'Production Cost']"
      ]
     },
     "execution_count": 48,
     "metadata": {},
     "output_type": "execute_result"
    }
   ],
   "source": [
    "feature_selection"
   ]
  },
  {
   "cell_type": "code",
   "execution_count": 49,
   "id": "18f7f7b5",
   "metadata": {},
   "outputs": [
    {
     "data": {
      "text/html": [
       "<style>#sk-container-id-2 {color: black;}#sk-container-id-2 pre{padding: 0;}#sk-container-id-2 div.sk-toggleable {background-color: white;}#sk-container-id-2 label.sk-toggleable__label {cursor: pointer;display: block;width: 100%;margin-bottom: 0;padding: 0.3em;box-sizing: border-box;text-align: center;}#sk-container-id-2 label.sk-toggleable__label-arrow:before {content: \"▸\";float: left;margin-right: 0.25em;color: #696969;}#sk-container-id-2 label.sk-toggleable__label-arrow:hover:before {color: black;}#sk-container-id-2 div.sk-estimator:hover label.sk-toggleable__label-arrow:before {color: black;}#sk-container-id-2 div.sk-toggleable__content {max-height: 0;max-width: 0;overflow: hidden;text-align: left;background-color: #f0f8ff;}#sk-container-id-2 div.sk-toggleable__content pre {margin: 0.2em;color: black;border-radius: 0.25em;background-color: #f0f8ff;}#sk-container-id-2 input.sk-toggleable__control:checked~div.sk-toggleable__content {max-height: 200px;max-width: 100%;overflow: auto;}#sk-container-id-2 input.sk-toggleable__control:checked~label.sk-toggleable__label-arrow:before {content: \"▾\";}#sk-container-id-2 div.sk-estimator input.sk-toggleable__control:checked~label.sk-toggleable__label {background-color: #d4ebff;}#sk-container-id-2 div.sk-label input.sk-toggleable__control:checked~label.sk-toggleable__label {background-color: #d4ebff;}#sk-container-id-2 input.sk-hidden--visually {border: 0;clip: rect(1px 1px 1px 1px);clip: rect(1px, 1px, 1px, 1px);height: 1px;margin: -1px;overflow: hidden;padding: 0;position: absolute;width: 1px;}#sk-container-id-2 div.sk-estimator {font-family: monospace;background-color: #f0f8ff;border: 1px dotted black;border-radius: 0.25em;box-sizing: border-box;margin-bottom: 0.5em;}#sk-container-id-2 div.sk-estimator:hover {background-color: #d4ebff;}#sk-container-id-2 div.sk-parallel-item::after {content: \"\";width: 100%;border-bottom: 1px solid gray;flex-grow: 1;}#sk-container-id-2 div.sk-label:hover label.sk-toggleable__label {background-color: #d4ebff;}#sk-container-id-2 div.sk-serial::before {content: \"\";position: absolute;border-left: 1px solid gray;box-sizing: border-box;top: 0;bottom: 0;left: 50%;z-index: 0;}#sk-container-id-2 div.sk-serial {display: flex;flex-direction: column;align-items: center;background-color: white;padding-right: 0.2em;padding-left: 0.2em;position: relative;}#sk-container-id-2 div.sk-item {position: relative;z-index: 1;}#sk-container-id-2 div.sk-parallel {display: flex;align-items: stretch;justify-content: center;background-color: white;position: relative;}#sk-container-id-2 div.sk-item::before, #sk-container-id-2 div.sk-parallel-item::before {content: \"\";position: absolute;border-left: 1px solid gray;box-sizing: border-box;top: 0;bottom: 0;left: 50%;z-index: -1;}#sk-container-id-2 div.sk-parallel-item {display: flex;flex-direction: column;z-index: 1;position: relative;background-color: white;}#sk-container-id-2 div.sk-parallel-item:first-child::after {align-self: flex-end;width: 50%;}#sk-container-id-2 div.sk-parallel-item:last-child::after {align-self: flex-start;width: 50%;}#sk-container-id-2 div.sk-parallel-item:only-child::after {width: 0;}#sk-container-id-2 div.sk-dashed-wrapped {border: 1px dashed gray;margin: 0 0.4em 0.5em 0.4em;box-sizing: border-box;padding-bottom: 0.4em;background-color: white;}#sk-container-id-2 div.sk-label label {font-family: monospace;font-weight: bold;display: inline-block;line-height: 1.2em;}#sk-container-id-2 div.sk-label-container {text-align: center;}#sk-container-id-2 div.sk-container {/* jupyter's `normalize.less` sets `[hidden] { display: none; }` but bootstrap.min.css set `[hidden] { display: none !important; }` so we also need the `!important` here to be able to override the default hidden behavior on the sphinx rendered scikit-learn.org. See: https://github.com/scikit-learn/scikit-learn/issues/21755 */display: inline-block !important;position: relative;}#sk-container-id-2 div.sk-text-repr-fallback {display: none;}</style><div id=\"sk-container-id-2\" class=\"sk-top-container\"><div class=\"sk-text-repr-fallback\"><pre>GradientBoostingRegressor()</pre><b>In a Jupyter environment, please rerun this cell to show the HTML representation or trust the notebook. <br />On GitHub, the HTML representation is unable to render, please try loading this page with nbviewer.org.</b></div><div class=\"sk-container\" hidden><div class=\"sk-item\"><div class=\"sk-estimator sk-toggleable\"><input class=\"sk-toggleable__control sk-hidden--visually\" id=\"sk-estimator-id-2\" type=\"checkbox\" checked><label for=\"sk-estimator-id-2\" class=\"sk-toggleable__label sk-toggleable__label-arrow\">GradientBoostingRegressor</label><div class=\"sk-toggleable__content\"><pre>GradientBoostingRegressor()</pre></div></div></div></div></div>"
      ],
      "text/plain": [
       "GradientBoostingRegressor()"
      ]
     },
     "execution_count": 49,
     "metadata": {},
     "output_type": "execute_result"
    }
   ],
   "source": [
    "model"
   ]
  },
  {
   "cell_type": "code",
   "execution_count": 50,
   "id": "d3804a36",
   "metadata": {},
   "outputs": [
    {
     "data": {
      "text/html": [
       "<div>\n",
       "<style scoped>\n",
       "    .dataframe tbody tr th:only-of-type {\n",
       "        vertical-align: middle;\n",
       "    }\n",
       "\n",
       "    .dataframe tbody tr th {\n",
       "        vertical-align: top;\n",
       "    }\n",
       "\n",
       "    .dataframe thead th {\n",
       "        text-align: right;\n",
       "    }\n",
       "</style>\n",
       "<table border=\"1\" class=\"dataframe\">\n",
       "  <thead>\n",
       "    <tr style=\"text-align: right;\">\n",
       "      <th></th>\n",
       "      <th>title</th>\n",
       "      <th>platform</th>\n",
       "      <th>genre</th>\n",
       "      <th>publisher</th>\n",
       "      <th>vg_score</th>\n",
       "      <th>critic_score</th>\n",
       "      <th>user_score</th>\n",
       "      <th>total_shipped</th>\n",
       "      <th>aisan_sales</th>\n",
       "      <th>north_american_sales</th>\n",
       "      <th>japan_sales</th>\n",
       "      <th>european_sales</th>\n",
       "      <th>Production Cost</th>\n",
       "      <th>release_year</th>\n",
       "    </tr>\n",
       "  </thead>\n",
       "  <tbody>\n",
       "    <tr>\n",
       "      <th>0</th>\n",
       "      <td>-1.0</td>\n",
       "      <td>0.0</td>\n",
       "      <td>6.0</td>\n",
       "      <td>7.0</td>\n",
       "      <td>0.0</td>\n",
       "      <td>18.0</td>\n",
       "      <td>6.0</td>\n",
       "      <td>346.0</td>\n",
       "      <td>198.0</td>\n",
       "      <td>26.0</td>\n",
       "      <td>461.0</td>\n",
       "      <td>584.0</td>\n",
       "      <td>398.0</td>\n",
       "      <td>9.0</td>\n",
       "    </tr>\n",
       "    <tr>\n",
       "      <th>1</th>\n",
       "      <td>-1.0</td>\n",
       "      <td>4.0</td>\n",
       "      <td>7.0</td>\n",
       "      <td>3.0</td>\n",
       "      <td>35.0</td>\n",
       "      <td>48.0</td>\n",
       "      <td>15.0</td>\n",
       "      <td>348.0</td>\n",
       "      <td>219.0</td>\n",
       "      <td>406.0</td>\n",
       "      <td>496.0</td>\n",
       "      <td>675.0</td>\n",
       "      <td>326.0</td>\n",
       "      <td>2.0</td>\n",
       "    </tr>\n",
       "    <tr>\n",
       "      <th>2</th>\n",
       "      <td>598.0</td>\n",
       "      <td>2.0</td>\n",
       "      <td>7.0</td>\n",
       "      <td>0.0</td>\n",
       "      <td>14.0</td>\n",
       "      <td>11.0</td>\n",
       "      <td>2.0</td>\n",
       "      <td>263.0</td>\n",
       "      <td>660.0</td>\n",
       "      <td>180.0</td>\n",
       "      <td>98.0</td>\n",
       "      <td>516.0</td>\n",
       "      <td>132.0</td>\n",
       "      <td>0.0</td>\n",
       "    </tr>\n",
       "    <tr>\n",
       "      <th>3</th>\n",
       "      <td>-1.0</td>\n",
       "      <td>8.0</td>\n",
       "      <td>5.0</td>\n",
       "      <td>3.0</td>\n",
       "      <td>23.0</td>\n",
       "      <td>6.0</td>\n",
       "      <td>10.0</td>\n",
       "      <td>100.0</td>\n",
       "      <td>632.0</td>\n",
       "      <td>329.0</td>\n",
       "      <td>138.0</td>\n",
       "      <td>446.0</td>\n",
       "      <td>238.0</td>\n",
       "      <td>11.0</td>\n",
       "    </tr>\n",
       "    <tr>\n",
       "      <th>4</th>\n",
       "      <td>-1.0</td>\n",
       "      <td>2.0</td>\n",
       "      <td>7.0</td>\n",
       "      <td>2.0</td>\n",
       "      <td>9.0</td>\n",
       "      <td>58.0</td>\n",
       "      <td>8.0</td>\n",
       "      <td>174.0</td>\n",
       "      <td>210.0</td>\n",
       "      <td>122.0</td>\n",
       "      <td>513.0</td>\n",
       "      <td>177.0</td>\n",
       "      <td>304.0</td>\n",
       "      <td>17.0</td>\n",
       "    </tr>\n",
       "    <tr>\n",
       "      <th>...</th>\n",
       "      <td>...</td>\n",
       "      <td>...</td>\n",
       "      <td>...</td>\n",
       "      <td>...</td>\n",
       "      <td>...</td>\n",
       "      <td>...</td>\n",
       "      <td>...</td>\n",
       "      <td>...</td>\n",
       "      <td>...</td>\n",
       "      <td>...</td>\n",
       "      <td>...</td>\n",
       "      <td>...</td>\n",
       "      <td>...</td>\n",
       "      <td>...</td>\n",
       "    </tr>\n",
       "    <tr>\n",
       "      <th>1864</th>\n",
       "      <td>-1.0</td>\n",
       "      <td>0.0</td>\n",
       "      <td>3.0</td>\n",
       "      <td>0.0</td>\n",
       "      <td>23.0</td>\n",
       "      <td>41.0</td>\n",
       "      <td>10.0</td>\n",
       "      <td>122.0</td>\n",
       "      <td>118.0</td>\n",
       "      <td>98.0</td>\n",
       "      <td>401.0</td>\n",
       "      <td>-1.0</td>\n",
       "      <td>333.0</td>\n",
       "      <td>7.0</td>\n",
       "    </tr>\n",
       "    <tr>\n",
       "      <th>1865</th>\n",
       "      <td>-1.0</td>\n",
       "      <td>4.0</td>\n",
       "      <td>5.0</td>\n",
       "      <td>2.0</td>\n",
       "      <td>35.0</td>\n",
       "      <td>6.0</td>\n",
       "      <td>4.0</td>\n",
       "      <td>336.0</td>\n",
       "      <td>234.0</td>\n",
       "      <td>467.0</td>\n",
       "      <td>329.0</td>\n",
       "      <td>211.0</td>\n",
       "      <td>111.0</td>\n",
       "      <td>3.0</td>\n",
       "    </tr>\n",
       "    <tr>\n",
       "      <th>1866</th>\n",
       "      <td>-1.0</td>\n",
       "      <td>2.0</td>\n",
       "      <td>6.0</td>\n",
       "      <td>7.0</td>\n",
       "      <td>23.0</td>\n",
       "      <td>0.0</td>\n",
       "      <td>4.0</td>\n",
       "      <td>316.0</td>\n",
       "      <td>467.0</td>\n",
       "      <td>490.0</td>\n",
       "      <td>83.0</td>\n",
       "      <td>379.0</td>\n",
       "      <td>539.0</td>\n",
       "      <td>6.0</td>\n",
       "    </tr>\n",
       "    <tr>\n",
       "      <th>1867</th>\n",
       "      <td>-1.0</td>\n",
       "      <td>2.0</td>\n",
       "      <td>6.0</td>\n",
       "      <td>2.0</td>\n",
       "      <td>23.0</td>\n",
       "      <td>48.0</td>\n",
       "      <td>15.0</td>\n",
       "      <td>130.0</td>\n",
       "      <td>653.0</td>\n",
       "      <td>135.0</td>\n",
       "      <td>142.0</td>\n",
       "      <td>244.0</td>\n",
       "      <td>367.0</td>\n",
       "      <td>9.0</td>\n",
       "    </tr>\n",
       "    <tr>\n",
       "      <th>1868</th>\n",
       "      <td>-1.0</td>\n",
       "      <td>4.0</td>\n",
       "      <td>0.0</td>\n",
       "      <td>0.0</td>\n",
       "      <td>32.0</td>\n",
       "      <td>0.0</td>\n",
       "      <td>0.0</td>\n",
       "      <td>120.0</td>\n",
       "      <td>198.0</td>\n",
       "      <td>479.0</td>\n",
       "      <td>0.0</td>\n",
       "      <td>660.0</td>\n",
       "      <td>423.0</td>\n",
       "      <td>9.0</td>\n",
       "    </tr>\n",
       "  </tbody>\n",
       "</table>\n",
       "<p>1869 rows × 14 columns</p>\n",
       "</div>"
      ],
      "text/plain": [
       "      title  platform  genre  publisher  vg_score  critic_score  user_score  \\\n",
       "0      -1.0       0.0    6.0        7.0       0.0          18.0         6.0   \n",
       "1      -1.0       4.0    7.0        3.0      35.0          48.0        15.0   \n",
       "2     598.0       2.0    7.0        0.0      14.0          11.0         2.0   \n",
       "3      -1.0       8.0    5.0        3.0      23.0           6.0        10.0   \n",
       "4      -1.0       2.0    7.0        2.0       9.0          58.0         8.0   \n",
       "...     ...       ...    ...        ...       ...           ...         ...   \n",
       "1864   -1.0       0.0    3.0        0.0      23.0          41.0        10.0   \n",
       "1865   -1.0       4.0    5.0        2.0      35.0           6.0         4.0   \n",
       "1866   -1.0       2.0    6.0        7.0      23.0           0.0         4.0   \n",
       "1867   -1.0       2.0    6.0        2.0      23.0          48.0        15.0   \n",
       "1868   -1.0       4.0    0.0        0.0      32.0           0.0         0.0   \n",
       "\n",
       "      total_shipped  aisan_sales  north_american_sales  japan_sales  \\\n",
       "0             346.0        198.0                  26.0        461.0   \n",
       "1             348.0        219.0                 406.0        496.0   \n",
       "2             263.0        660.0                 180.0         98.0   \n",
       "3             100.0        632.0                 329.0        138.0   \n",
       "4             174.0        210.0                 122.0        513.0   \n",
       "...             ...          ...                   ...          ...   \n",
       "1864          122.0        118.0                  98.0        401.0   \n",
       "1865          336.0        234.0                 467.0        329.0   \n",
       "1866          316.0        467.0                 490.0         83.0   \n",
       "1867          130.0        653.0                 135.0        142.0   \n",
       "1868          120.0        198.0                 479.0          0.0   \n",
       "\n",
       "      european_sales  Production Cost  release_year  \n",
       "0              584.0            398.0           9.0  \n",
       "1              675.0            326.0           2.0  \n",
       "2              516.0            132.0           0.0  \n",
       "3              446.0            238.0          11.0  \n",
       "4              177.0            304.0          17.0  \n",
       "...              ...              ...           ...  \n",
       "1864            -1.0            333.0           7.0  \n",
       "1865           211.0            111.0           3.0  \n",
       "1866           379.0            539.0           6.0  \n",
       "1867           244.0            367.0           9.0  \n",
       "1868           660.0            423.0           9.0  \n",
       "\n",
       "[1869 rows x 14 columns]"
      ]
     },
     "execution_count": 50,
     "metadata": {},
     "output_type": "execute_result"
    }
   ],
   "source": [
    "encode_data=encode_model.transform(x_test)\n",
    "encode_data=pd.DataFrame(encode_data,columns=x_test.columns)\n",
    "encode_data"
   ]
  },
  {
   "cell_type": "code",
   "execution_count": 51,
   "id": "87616d83",
   "metadata": {},
   "outputs": [
    {
     "data": {
      "text/html": [
       "<div>\n",
       "<style scoped>\n",
       "    .dataframe tbody tr th:only-of-type {\n",
       "        vertical-align: middle;\n",
       "    }\n",
       "\n",
       "    .dataframe tbody tr th {\n",
       "        vertical-align: top;\n",
       "    }\n",
       "\n",
       "    .dataframe thead th {\n",
       "        text-align: right;\n",
       "    }\n",
       "</style>\n",
       "<table border=\"1\" class=\"dataframe\">\n",
       "  <thead>\n",
       "    <tr style=\"text-align: right;\">\n",
       "      <th></th>\n",
       "      <th>european_sales</th>\n",
       "      <th>north_american_sales</th>\n",
       "      <th>aisan_sales</th>\n",
       "      <th>japan_sales</th>\n",
       "      <th>genre</th>\n",
       "      <th>release_year</th>\n",
       "      <th>platform</th>\n",
       "      <th>vg_score</th>\n",
       "      <th>total_shipped</th>\n",
       "      <th>Production Cost</th>\n",
       "    </tr>\n",
       "  </thead>\n",
       "  <tbody>\n",
       "    <tr>\n",
       "      <th>0</th>\n",
       "      <td>584.0</td>\n",
       "      <td>26.0</td>\n",
       "      <td>198.0</td>\n",
       "      <td>461.0</td>\n",
       "      <td>6.0</td>\n",
       "      <td>9.0</td>\n",
       "      <td>0.0</td>\n",
       "      <td>0.0</td>\n",
       "      <td>346.0</td>\n",
       "      <td>398.0</td>\n",
       "    </tr>\n",
       "    <tr>\n",
       "      <th>1</th>\n",
       "      <td>675.0</td>\n",
       "      <td>406.0</td>\n",
       "      <td>219.0</td>\n",
       "      <td>496.0</td>\n",
       "      <td>7.0</td>\n",
       "      <td>2.0</td>\n",
       "      <td>4.0</td>\n",
       "      <td>35.0</td>\n",
       "      <td>348.0</td>\n",
       "      <td>326.0</td>\n",
       "    </tr>\n",
       "    <tr>\n",
       "      <th>2</th>\n",
       "      <td>516.0</td>\n",
       "      <td>180.0</td>\n",
       "      <td>660.0</td>\n",
       "      <td>98.0</td>\n",
       "      <td>7.0</td>\n",
       "      <td>0.0</td>\n",
       "      <td>2.0</td>\n",
       "      <td>14.0</td>\n",
       "      <td>263.0</td>\n",
       "      <td>132.0</td>\n",
       "    </tr>\n",
       "    <tr>\n",
       "      <th>3</th>\n",
       "      <td>446.0</td>\n",
       "      <td>329.0</td>\n",
       "      <td>632.0</td>\n",
       "      <td>138.0</td>\n",
       "      <td>5.0</td>\n",
       "      <td>11.0</td>\n",
       "      <td>8.0</td>\n",
       "      <td>23.0</td>\n",
       "      <td>100.0</td>\n",
       "      <td>238.0</td>\n",
       "    </tr>\n",
       "    <tr>\n",
       "      <th>4</th>\n",
       "      <td>177.0</td>\n",
       "      <td>122.0</td>\n",
       "      <td>210.0</td>\n",
       "      <td>513.0</td>\n",
       "      <td>7.0</td>\n",
       "      <td>17.0</td>\n",
       "      <td>2.0</td>\n",
       "      <td>9.0</td>\n",
       "      <td>174.0</td>\n",
       "      <td>304.0</td>\n",
       "    </tr>\n",
       "    <tr>\n",
       "      <th>...</th>\n",
       "      <td>...</td>\n",
       "      <td>...</td>\n",
       "      <td>...</td>\n",
       "      <td>...</td>\n",
       "      <td>...</td>\n",
       "      <td>...</td>\n",
       "      <td>...</td>\n",
       "      <td>...</td>\n",
       "      <td>...</td>\n",
       "      <td>...</td>\n",
       "    </tr>\n",
       "    <tr>\n",
       "      <th>1864</th>\n",
       "      <td>-1.0</td>\n",
       "      <td>98.0</td>\n",
       "      <td>118.0</td>\n",
       "      <td>401.0</td>\n",
       "      <td>3.0</td>\n",
       "      <td>7.0</td>\n",
       "      <td>0.0</td>\n",
       "      <td>23.0</td>\n",
       "      <td>122.0</td>\n",
       "      <td>333.0</td>\n",
       "    </tr>\n",
       "    <tr>\n",
       "      <th>1865</th>\n",
       "      <td>211.0</td>\n",
       "      <td>467.0</td>\n",
       "      <td>234.0</td>\n",
       "      <td>329.0</td>\n",
       "      <td>5.0</td>\n",
       "      <td>3.0</td>\n",
       "      <td>4.0</td>\n",
       "      <td>35.0</td>\n",
       "      <td>336.0</td>\n",
       "      <td>111.0</td>\n",
       "    </tr>\n",
       "    <tr>\n",
       "      <th>1866</th>\n",
       "      <td>379.0</td>\n",
       "      <td>490.0</td>\n",
       "      <td>467.0</td>\n",
       "      <td>83.0</td>\n",
       "      <td>6.0</td>\n",
       "      <td>6.0</td>\n",
       "      <td>2.0</td>\n",
       "      <td>23.0</td>\n",
       "      <td>316.0</td>\n",
       "      <td>539.0</td>\n",
       "    </tr>\n",
       "    <tr>\n",
       "      <th>1867</th>\n",
       "      <td>244.0</td>\n",
       "      <td>135.0</td>\n",
       "      <td>653.0</td>\n",
       "      <td>142.0</td>\n",
       "      <td>6.0</td>\n",
       "      <td>9.0</td>\n",
       "      <td>2.0</td>\n",
       "      <td>23.0</td>\n",
       "      <td>130.0</td>\n",
       "      <td>367.0</td>\n",
       "    </tr>\n",
       "    <tr>\n",
       "      <th>1868</th>\n",
       "      <td>660.0</td>\n",
       "      <td>479.0</td>\n",
       "      <td>198.0</td>\n",
       "      <td>0.0</td>\n",
       "      <td>0.0</td>\n",
       "      <td>9.0</td>\n",
       "      <td>4.0</td>\n",
       "      <td>32.0</td>\n",
       "      <td>120.0</td>\n",
       "      <td>423.0</td>\n",
       "    </tr>\n",
       "  </tbody>\n",
       "</table>\n",
       "<p>1869 rows × 10 columns</p>\n",
       "</div>"
      ],
      "text/plain": [
       "      european_sales  north_american_sales  aisan_sales  japan_sales  genre  \\\n",
       "0              584.0                  26.0        198.0        461.0    6.0   \n",
       "1              675.0                 406.0        219.0        496.0    7.0   \n",
       "2              516.0                 180.0        660.0         98.0    7.0   \n",
       "3              446.0                 329.0        632.0        138.0    5.0   \n",
       "4              177.0                 122.0        210.0        513.0    7.0   \n",
       "...              ...                   ...          ...          ...    ...   \n",
       "1864            -1.0                  98.0        118.0        401.0    3.0   \n",
       "1865           211.0                 467.0        234.0        329.0    5.0   \n",
       "1866           379.0                 490.0        467.0         83.0    6.0   \n",
       "1867           244.0                 135.0        653.0        142.0    6.0   \n",
       "1868           660.0                 479.0        198.0          0.0    0.0   \n",
       "\n",
       "      release_year  platform  vg_score  total_shipped  Production Cost  \n",
       "0              9.0       0.0       0.0          346.0            398.0  \n",
       "1              2.0       4.0      35.0          348.0            326.0  \n",
       "2              0.0       2.0      14.0          263.0            132.0  \n",
       "3             11.0       8.0      23.0          100.0            238.0  \n",
       "4             17.0       2.0       9.0          174.0            304.0  \n",
       "...            ...       ...       ...            ...              ...  \n",
       "1864           7.0       0.0      23.0          122.0            333.0  \n",
       "1865           3.0       4.0      35.0          336.0            111.0  \n",
       "1866           6.0       2.0      23.0          316.0            539.0  \n",
       "1867           9.0       2.0      23.0          130.0            367.0  \n",
       "1868           9.0       4.0      32.0          120.0            423.0  \n",
       "\n",
       "[1869 rows x 10 columns]"
      ]
     },
     "execution_count": 51,
     "metadata": {},
     "output_type": "execute_result"
    }
   ],
   "source": [
    "feature_selected=encode_data[feature_selection]\n",
    "feature_selected"
   ]
  },
  {
   "cell_type": "code",
   "execution_count": 52,
   "id": "ba256755",
   "metadata": {},
   "outputs": [
    {
     "data": {
      "text/html": [
       "<div>\n",
       "<style scoped>\n",
       "    .dataframe tbody tr th:only-of-type {\n",
       "        vertical-align: middle;\n",
       "    }\n",
       "\n",
       "    .dataframe tbody tr th {\n",
       "        vertical-align: top;\n",
       "    }\n",
       "\n",
       "    .dataframe thead th {\n",
       "        text-align: right;\n",
       "    }\n",
       "</style>\n",
       "<table border=\"1\" class=\"dataframe\">\n",
       "  <thead>\n",
       "    <tr style=\"text-align: right;\">\n",
       "      <th></th>\n",
       "      <th>0</th>\n",
       "    </tr>\n",
       "  </thead>\n",
       "  <tbody>\n",
       "    <tr>\n",
       "      <th>0</th>\n",
       "      <td>11.153053</td>\n",
       "    </tr>\n",
       "    <tr>\n",
       "      <th>1</th>\n",
       "      <td>19.581775</td>\n",
       "    </tr>\n",
       "    <tr>\n",
       "      <th>2</th>\n",
       "      <td>16.710215</td>\n",
       "    </tr>\n",
       "    <tr>\n",
       "      <th>3</th>\n",
       "      <td>17.624186</td>\n",
       "    </tr>\n",
       "    <tr>\n",
       "      <th>4</th>\n",
       "      <td>12.619736</td>\n",
       "    </tr>\n",
       "    <tr>\n",
       "      <th>...</th>\n",
       "      <td>...</td>\n",
       "    </tr>\n",
       "    <tr>\n",
       "      <th>1864</th>\n",
       "      <td>6.466883</td>\n",
       "    </tr>\n",
       "    <tr>\n",
       "      <th>1865</th>\n",
       "      <td>14.898446</td>\n",
       "    </tr>\n",
       "    <tr>\n",
       "      <th>1866</th>\n",
       "      <td>15.932454</td>\n",
       "    </tr>\n",
       "    <tr>\n",
       "      <th>1867</th>\n",
       "      <td>13.984486</td>\n",
       "    </tr>\n",
       "    <tr>\n",
       "      <th>1868</th>\n",
       "      <td>11.572829</td>\n",
       "    </tr>\n",
       "  </tbody>\n",
       "</table>\n",
       "<p>1869 rows × 1 columns</p>\n",
       "</div>"
      ],
      "text/plain": [
       "              0\n",
       "0     11.153053\n",
       "1     19.581775\n",
       "2     16.710215\n",
       "3     17.624186\n",
       "4     12.619736\n",
       "...         ...\n",
       "1864   6.466883\n",
       "1865  14.898446\n",
       "1866  15.932454\n",
       "1867  13.984486\n",
       "1868  11.572829\n",
       "\n",
       "[1869 rows x 1 columns]"
      ]
     },
     "execution_count": 52,
     "metadata": {},
     "output_type": "execute_result"
    }
   ],
   "source": [
    "y_pred=pd.DataFrame(model.predict(feature_selected))\n",
    "y_pred"
   ]
  },
  {
   "cell_type": "markdown",
   "id": "d8841aaa",
   "metadata": {},
   "source": [
    "## Evaluation of Model"
   ]
  },
  {
   "cell_type": "code",
   "execution_count": 53,
   "id": "25af842a",
   "metadata": {},
   "outputs": [],
   "source": [
    "from math import sqrt\n",
    "from sklearn.metrics import mean_absolute_error,mean_squared_error,r2_score"
   ]
  },
  {
   "cell_type": "markdown",
   "id": "7431891d",
   "metadata": {},
   "source": [
    "- The above function generates mean_absolute_error,mean_squared_error and r2_score. The lower the MAE, MSE, and RMSE values, the better the model's performance in minimizing the prediction errors. The R2_score must be close to 1 for the model to perform well "
   ]
  },
  {
   "cell_type": "code",
   "execution_count": 54,
   "id": "1b54bb85",
   "metadata": {},
   "outputs": [
    {
     "name": "stdout",
     "output_type": "stream",
     "text": [
      "MAE: 0.4961370281829161\n"
     ]
    }
   ],
   "source": [
    "print('MAE:',mean_absolute_error(y_pred,y_test))"
   ]
  },
  {
   "cell_type": "code",
   "execution_count": 55,
   "id": "1d7edbd1",
   "metadata": {},
   "outputs": [
    {
     "name": "stdout",
     "output_type": "stream",
     "text": [
      "MSE: 1.2002453725709892\n"
     ]
    }
   ],
   "source": [
    "print('MSE:',mean_squared_error(y_pred,y_test))"
   ]
  },
  {
   "cell_type": "code",
   "execution_count": 56,
   "id": "aa07e5fe",
   "metadata": {},
   "outputs": [
    {
     "name": "stdout",
     "output_type": "stream",
     "text": [
      "RMSE: 1.0955571060291605\n"
     ]
    }
   ],
   "source": [
    "print('RMSE:',sqrt(mean_squared_error(y_pred,y_test)))"
   ]
  },
  {
   "cell_type": "code",
   "execution_count": 57,
   "id": "97422de5",
   "metadata": {},
   "outputs": [
    {
     "name": "stdout",
     "output_type": "stream",
     "text": [
      "R2: 0.9626405021809663\n"
     ]
    }
   ],
   "source": [
    "print('R2:',r2_score(y_pred,y_test))"
   ]
  },
  {
   "cell_type": "markdown",
   "id": "e4378dd0",
   "metadata": {},
   "source": [
    "- As we see our scores are good and r2_score close to 1 shows that our model has performed well in training"
   ]
  },
  {
   "cell_type": "code",
   "execution_count": null,
   "id": "a96ff517",
   "metadata": {},
   "outputs": [],
   "source": []
  }
 ],
 "metadata": {
  "kernelspec": {
   "display_name": "Python 3 (ipykernel)",
   "language": "python",
   "name": "python3"
  },
  "language_info": {
   "codemirror_mode": {
    "name": "ipython",
    "version": 3
   },
   "file_extension": ".py",
   "mimetype": "text/x-python",
   "name": "python",
   "nbconvert_exporter": "python",
   "pygments_lexer": "ipython3",
   "version": "3.10.9"
  }
 },
 "nbformat": 4,
 "nbformat_minor": 5
}
